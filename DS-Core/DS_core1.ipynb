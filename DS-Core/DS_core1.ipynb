{
 "cells": [
  {
   "cell_type": "markdown",
   "id": "bad880f9",
   "metadata": {},
   "source": [
    "## DAta Science Core Module Assignment-1"
   ]
  },
  {
   "cell_type": "markdown",
   "id": "f435f412",
   "metadata": {},
   "source": [
    "1. Write a Python program to reverse a string without using any built-in string reversal functions."
   ]
  },
  {
   "cell_type": "code",
   "execution_count": 1,
   "id": "7af1632b",
   "metadata": {},
   "outputs": [
    {
     "name": "stdout",
     "output_type": "stream",
     "text": [
      "Enter the string : adda\n",
      "Reverse of adda is adda\n"
     ]
    }
   ],
   "source": [
    "def rev_str(str):\n",
    "    reversed_str=\"\"\n",
    "    for i in range(len(str)-1,-1,-1):\n",
    "        reversed_str += str[i]\n",
    "    return reversed_str\n",
    "x=input(\"Enter the string : \")\n",
    "print(f\"Reverse of {x} is {rev_str(x)}\")"
   ]
  },
  {
   "cell_type": "markdown",
   "id": "97f01242",
   "metadata": {},
   "source": [
    "2. Implement a function to check if a given string is a palindrome."
   ]
  },
  {
   "cell_type": "code",
   "execution_count": 2,
   "id": "fc98a07d",
   "metadata": {},
   "outputs": [
    {
     "name": "stdout",
     "output_type": "stream",
     "text": [
      "Enter a string: adda\n",
      "The string adda is a palindrome.\n"
     ]
    }
   ],
   "source": [
    "def is_palindrome(string):\n",
    "    string = string.upper()\n",
    "    string = ''.join(char for char in string if char.isalnum())\n",
    "    \n",
    "    return string == string[::-1]\n",
    "\n",
    "\n",
    "input_str = input(\"Enter a string: \")\n",
    "if is_palindrome(input_str):\n",
    "    print(f\"The string {input_str} is a palindrome.\")\n",
    "else:\n",
    "    print(f\"The string {input_str} is not a palindrome.\")\n"
   ]
  },
  {
   "cell_type": "markdown",
   "id": "0e121629",
   "metadata": {},
   "source": [
    "3. Write a program to find the largest element in a given list."
   ]
  },
  {
   "cell_type": "code",
   "execution_count": 3,
   "id": "718df9d1",
   "metadata": {},
   "outputs": [
    {
     "name": "stdout",
     "output_type": "stream",
     "text": [
      "enter element to list :12,4,6,9,7,8\n",
      "The largest element of [12, 4, 6, 9, 7, 8] is 12\n"
     ]
    }
   ],
   "source": [
    "def largest_element(lst):\n",
    "    l=lst[0]\n",
    "    for i in lst:\n",
    "        if i > l:\n",
    "            l = i\n",
    "    return l\n",
    "\n",
    "lst=[int(val) for val in input(\"enter element to list :\").split(\",\")]\n",
    "print(f\"The largest element of {lst} is {largest_element(lst)}\")    "
   ]
  },
  {
   "cell_type": "markdown",
   "id": "2559faf7",
   "metadata": {},
   "source": [
    "4. Implement a function to count the occurrence of each element in a list."
   ]
  },
  {
   "cell_type": "code",
   "execution_count": 4,
   "id": "0bde2bf7",
   "metadata": {},
   "outputs": [
    {
     "name": "stdout",
     "output_type": "stream",
     "text": [
      "enter element to list :11,2,3,11,9,9,8,2,11\n",
      "Occurrence of each element in [11, 2, 3, 11, 9, 9, 8, 2, 11] : \n",
      "11 : 3\n",
      "2 : 2\n",
      "3 : 1\n",
      "9 : 2\n",
      "8 : 1\n"
     ]
    }
   ],
   "source": [
    "def ele_count(lst):\n",
    "    l={}\n",
    "    for i in lst:\n",
    "        if i not in l:\n",
    "            l[i]=1\n",
    "        else:\n",
    "            l[i] += 1\n",
    "    return l\n",
    "\n",
    "in_list=[int(val) for val in input(\"enter element to list :\").split(\",\")]\n",
    "print(f\"Occurrence of each element in {in_list} : \")\n",
    "for key,val in ele_count(in_list).items():\n",
    "    print(f\"{key} : {val}\")"
   ]
  },
  {
   "cell_type": "markdown",
   "id": "5f57018c",
   "metadata": {},
   "source": [
    "5. Write a Python program to find the second largest number in a list."
   ]
  },
  {
   "cell_type": "code",
   "execution_count": 5,
   "id": "80430329",
   "metadata": {},
   "outputs": [
    {
     "name": "stdout",
     "output_type": "stream",
     "text": [
      "Enter elements to list :11 9 7  8 9 10 12 13\n",
      "The second largest number in [11, 9, 7, 8, 9, 10, 12, 13] is 12\n"
     ]
    }
   ],
   "source": [
    "def second_largest(lst):\n",
    "    if len(lst) >= 2:\n",
    "        largest = max(lst[0], lst[1])  \n",
    "        second_largest = min(lst[0], lst[1])\n",
    "\n",
    "        for i in lst[2:]:\n",
    "            if i > largest:\n",
    "                second_largest = largest\n",
    "                largest = i\n",
    "            elif i > second_largest:\n",
    "                second_largest = i\n",
    "        return second_largest\n",
    "    else:\n",
    "        return None\n",
    "\n",
    "\n",
    "in_list = [int(val) for val in input(\"Enter elements to list :\").split()]\n",
    "\n",
    "if second_largest(in_list) is not None:\n",
    "    print(f\"The second largest number in {in_list} is {second_largest(in_list)}\")\n",
    "else:\n",
    "    print(f\"{in_list} does not have a second largest number.\")"
   ]
  },
  {
   "cell_type": "markdown",
   "id": "9188e687",
   "metadata": {},
   "source": [
    "6. Implement a function to remove duplicate elements from a list."
   ]
  },
  {
   "cell_type": "code",
   "execution_count": 7,
   "id": "420dc826",
   "metadata": {},
   "outputs": [
    {
     "name": "stdout",
     "output_type": "stream",
     "text": [
      "Enter elements to list :11,23,45,67,98,78,9,98,11\n",
      "Removing duplicate elements from [11, 23, 45, 67, 98, 78, 9, 98, 11] : [11, 23, 45, 67, 98, 78, 9]\n"
     ]
    }
   ],
   "source": [
    "def remove_duplicate(lst):\n",
    "    l=[]\n",
    "    for i in lst:\n",
    "        if i not in l:\n",
    "            l.append(i)\n",
    "    return l\n",
    "in_list = [int(val) for val in input(\"Enter elements to list :\").split(\",\")]\n",
    "print(f\"Removing duplicate elements from {in_list} : {remove_duplicate(in_list)}\")"
   ]
  },
  {
   "cell_type": "markdown",
   "id": "232eb1a2",
   "metadata": {},
   "source": [
    "7. Write a program to calculate the factorial of a given number."
   ]
  },
  {
   "cell_type": "code",
   "execution_count": 2,
   "id": "a33d2d0e",
   "metadata": {},
   "outputs": [
    {
     "name": "stdout",
     "output_type": "stream",
     "text": [
      "Enter a number : 7\n",
      "Factorial of 7 : 5040\n"
     ]
    }
   ],
   "source": [
    "def factorial(number):\n",
    "    x=1\n",
    "    for i in range(1,number+1):\n",
    "        x=x*i\n",
    "    return x\n",
    "\n",
    "in_number = int(input(\"Enter a number : \"))\n",
    "if in_number < 0:\n",
    "    print(\"Factorial is not defined for negative numbers.\")\n",
    "else:\n",
    "    print(f\"Factorial of {in_number} : {factorial(in_number)}\")"
   ]
  },
  {
   "cell_type": "code",
   "execution_count": 1,
   "id": "ac53dede",
   "metadata": {},
   "outputs": [
    {
     "name": "stdout",
     "output_type": "stream",
     "text": [
      "Enter a number: 7\n",
      "factorial of 7 is 5040\n"
     ]
    }
   ],
   "source": [
    "#factorial using recursion\n",
    "def fact(n):\n",
    "    if n == 0:\n",
    "        return 1\n",
    "    else:\n",
    "        return n * fact(n - 1)\n",
    "\n",
    "# Test the function\n",
    "in_number = int(input(\"Enter a number: \"))\n",
    "\n",
    "if in_number < 0:\n",
    "    print(\"Factorial is not defined for negative numbers.\")\n",
    "else:\n",
    "    print(f\"factorial of {in_number} is {fact(in_number)}\")\n"
   ]
  },
  {
   "cell_type": "markdown",
   "id": "4118d470",
   "metadata": {},
   "source": [
    "8. Implement a function to check if a given number is prime."
   ]
  },
  {
   "cell_type": "code",
   "execution_count": 6,
   "id": "4765bc37",
   "metadata": {},
   "outputs": [
    {
     "name": "stdout",
     "output_type": "stream",
     "text": [
      "Enter a number :23\n",
      "23 is a Prime  Number\n"
     ]
    }
   ],
   "source": [
    "def is_prime(num):\n",
    "        for i in range(2,num):\n",
    "            if num%i == 0:\n",
    "                print(\"{} is not a Prime Number\".format(num))\n",
    "                break\n",
    "        else:\n",
    "            print(\"{} is a Prime  Number\".format(num))\n",
    "in_number=int(input(\"Enter a number :\"))\n",
    "is_prime(in_number) "
   ]
  },
  {
   "cell_type": "markdown",
   "id": "4b098eff",
   "metadata": {},
   "source": [
    "9. Write a Python program to sort a list of integers in ascending order."
   ]
  },
  {
   "cell_type": "code",
   "execution_count": 13,
   "id": "141826aa",
   "metadata": {},
   "outputs": [
    {
     "name": "stdout",
     "output_type": "stream",
     "text": [
      "Enter elements to list :11,9,8,7,6,5,2\n",
      "Ascending order of [11, 9, 8, 7, 6, 5, 2] : [2, 5, 6, 7, 8, 9, 11]\n"
     ]
    }
   ],
   "source": [
    "#using default function sort()\n",
    "def ascending_order(lst):\n",
    "    lst.sort()\n",
    "    return lst\n",
    "\n",
    "in_list = [int(val) for val in input(\"Enter elements to list :\").split(\",\")]\n",
    "print(f\"Ascending order of {in_list} : {ascending_order(in_list)}\")"
   ]
  },
  {
   "cell_type": "code",
   "execution_count": null,
   "id": "08169ead",
   "metadata": {},
   "outputs": [],
   "source": [
    "def asc_order(lst):\n",
    "    for i in range(len(lst)):\n",
    "        for j in range(i+1,len(lst)):\n",
    "            if lst[i] > lst[j]:\n",
    "                lst[i],lst[j] =lst[j],lst[i]\n",
    "                \n",
    "    return lst\n",
    "\n",
    "in_list = [int(val) for val in input(\"Enter elements to list :\").split(\",\")]\n",
    "print(f\"Ascending order of {in_list} : {asc_order(in_list)}\")"
   ]
  },
  {
   "cell_type": "markdown",
   "id": "870d6c99",
   "metadata": {},
   "source": [
    "10. Implement a function to find the sum of all numbers in a list."
   ]
  },
  {
   "cell_type": "code",
   "execution_count": 14,
   "id": "1146fdc0",
   "metadata": {},
   "outputs": [
    {
     "name": "stdout",
     "output_type": "stream",
     "text": [
      "Enter elements to list :2,4,6,8,10\n",
      "Sum of elements of [2, 4, 6, 8, 10] : 30\n"
     ]
    }
   ],
   "source": [
    "def sum_list(lst):\n",
    "    sum=0\n",
    "    for i in lst:\n",
    "        sum += i\n",
    "    return sum\n",
    "\n",
    "in_list = [int(val) for val in input(\"Enter elements to list :\").split(\",\")]\n",
    "print(f\"Sum of elements of {in_list} : {sum_list(in_list)}\")"
   ]
  },
  {
   "cell_type": "markdown",
   "id": "32f6254e",
   "metadata": {},
   "source": [
    "11. Write a program to find the common elements between two lists."
   ]
  },
  {
   "cell_type": "code",
   "execution_count": 17,
   "id": "125d77c1",
   "metadata": {},
   "outputs": [
    {
     "name": "stdout",
     "output_type": "stream",
     "text": [
      "Enter elements to list :12,45,98,19\n",
      "Enter elements to list :2,4,12,20,19\n",
      "Common elements of [12, 45, 98, 19] and [2, 4, 12, 20, 19] : [12, 19]\n"
     ]
    }
   ],
   "source": [
    "def common_element(lst1,lst2):\n",
    "    l=[]\n",
    "    for i in lst1:\n",
    "        for j in lst2:\n",
    "            if i == j:\n",
    "                l.append(i)\n",
    "    return l\n",
    "\n",
    "in_list1 = [int(val) for val in input(\"Enter elements to list :\").split(\",\")]\n",
    "in_list2 = [int(val) for val in input(\"Enter elements to list :\").split(\",\")]\n",
    "result=common_element(in_list1,in_list2)\n",
    "if len(result)>=1:\n",
    "    print(f\"Common elements of {in_list1} and {in_list2} : {result}\")\n",
    "else:\n",
    "    print(f\"There is no Common elements between {in_list1} and {in_list2}\")   "
   ]
  },
  {
   "cell_type": "markdown",
   "id": "78d138e2",
   "metadata": {},
   "source": [
    "12. Implement a function to check if a given string is an anagram of another string."
   ]
  },
  {
   "cell_type": "code",
   "execution_count": 32,
   "id": "32905dc4",
   "metadata": {},
   "outputs": [
    {
     "name": "stdout",
     "output_type": "stream",
     "text": [
      "Enter first string :hea RT\n",
      "Enter second string :EA Rth\n",
      "hea RT and EA Rth are anagram of each other\n"
     ]
    }
   ],
   "source": [
    "def is_anagram(string1,string2):\n",
    "    string1 = string1.lower().replace(\" \",\"\")\n",
    "    string2 = string2.lower().replace(\" \",\"\")\n",
    "    \n",
    "    if len(string1) != len(string2):\n",
    "        return False\n",
    "    f1={}\n",
    "    f2={}\n",
    "    \n",
    "    for i in string1:\n",
    "        f1[i] = f1.get(i, 0) + 1\n",
    "    for i in string2:\n",
    "        f2[i] = f2.get(i, 0) + 1\n",
    "    \n",
    "    return f1 == f2\n",
    "in_string1=input(\"Enter first string :\")\n",
    "in_string2=input(\"Enter second string :\")\n",
    "if is_anagram(in_string1,in_string2):\n",
    "    print(f\"{in_string1} and {in_string2} are anagram of each other\")\n",
    "else:\n",
    "    print(f\"{in_string1} and {in_string2} are not anagram of each other\")"
   ]
  },
  {
   "cell_type": "markdown",
   "id": "1beecb4c",
   "metadata": {},
   "source": [
    "13. Write a Python program to generate all permutations of a given string."
   ]
  },
  {
   "cell_type": "code",
   "execution_count": 42,
   "id": "7a272679",
   "metadata": {},
   "outputs": [
    {
     "name": "stdout",
     "output_type": "stream",
     "text": [
      "Enter a string: dsa\n",
      "All permutations of the dsa :\n",
      "dsa\n",
      "das\n",
      "sda\n",
      "sad\n",
      "ads\n",
      "asd\n"
     ]
    }
   ],
   "source": [
    "from itertools import permutations\n",
    "\n",
    "def find_permutations(string):\n",
    "    p = permutations(string)\n",
    "    p = [''.join(p) for p in p]\n",
    "\n",
    "    return p\n",
    "\n",
    "\n",
    "in_string = input(\"Enter a string: \")\n",
    "print(f\"All permutations of the {in_string} :\")\n",
    "for i in find_permutations(in_string):\n",
    "    print(i)"
   ]
  },
  {
   "cell_type": "markdown",
   "id": "252d9517",
   "metadata": {},
   "source": [
    "14. Implement a function to calculate the Fibonacci sequence up to a given number of terms."
   ]
  },
  {
   "cell_type": "code",
   "execution_count": 43,
   "id": "0863e201",
   "metadata": {},
   "outputs": [
    {
     "name": "stdout",
     "output_type": "stream",
     "text": [
      "enter a number of terms :10\n",
      "fibonacci sequence upto 10 terms : [0, 1, 1, 2, 3, 5, 8, 13, 21, 34]\n"
     ]
    }
   ],
   "source": [
    "def fibonacci_sequence(number):\n",
    "    if number <= 0:\n",
    "        return[]\n",
    "    s=[0,1]\n",
    "    while len(s) < number:\n",
    "        temp = s[-1] + s[-2]\n",
    "        s.append(temp)\n",
    "    return s\n",
    "in_number=int(input(\"enter a number of terms :\"))\n",
    "print(f\"fibonacci sequence upto {in_number} terms : {fibonacci_sequence(in_number)}\")"
   ]
  },
  {
   "cell_type": "markdown",
   "id": "954bf0f6",
   "metadata": {},
   "source": [
    "15. Write a program to find the median of a list of numbers."
   ]
  },
  {
   "cell_type": "code",
   "execution_count": 8,
   "id": "2757018f",
   "metadata": {},
   "outputs": [
    {
     "name": "stdout",
     "output_type": "stream",
     "text": [
      "Enter a list of numbers (space-separated): 12 23 27 34\n",
      "Median of the list: 25.0\n"
     ]
    }
   ],
   "source": [
    "def find_median(numbers):\n",
    "    sorted_numbers = sorted(numbers)\n",
    "    mid_index = len(sorted_numbers) // 2\n",
    "   \n",
    "    if len(sorted_numbers) % 2 == 1:\n",
    "        median = sorted_numbers[mid_index]\n",
    "    else:\n",
    "        median = (sorted_numbers[mid_index - 1] + sorted_numbers[mid_index]) / 2\n",
    "\n",
    "    return median\n",
    " \n",
    "in_list = [float(val) for val in input(\"Enter a list of numbers (space-separated): \").split()]\n",
    "median = find_median(in_list)\n",
    "print(\"Median of the list:\", median)\n"
   ]
  },
  {
   "cell_type": "markdown",
   "id": "5797a9bb",
   "metadata": {},
   "source": [
    "16. Implement a function to check if a given list is sorted in non-decreasing order."
   ]
  },
  {
   "cell_type": "code",
   "execution_count": 12,
   "id": "d81bc036",
   "metadata": {},
   "outputs": [
    {
     "name": "stdout",
     "output_type": "stream",
     "text": [
      "Enter a list of numbers (space-separated): 12 23 34 45 55 67 89 23\n",
      "[12.0, 23.0, 34.0, 45.0, 55.0, 67.0, 89.0, 23.0] is not sorted in non-decreasing order\n"
     ]
    }
   ],
   "source": [
    "def is_sorted(lst):\n",
    "    if len(lst) <= 1:\n",
    "        return True\n",
    "    \n",
    "    for i in range(len(lst)):\n",
    "        if lst[i]>lst[i+1]:\n",
    "            return False\n",
    "\n",
    "    return True\n",
    "        \n",
    "in_list = [float(val) for val in input(\"Enter a list of numbers (space-separated): \").split()]\n",
    "if is_sorted(in_list):\n",
    "    print(f\"{in_list} is sorted in non-decreasing order\")\n",
    "else:\n",
    "    print(f\"{in_list} is not sorted in non-decreasing order\")"
   ]
  },
  {
   "cell_type": "markdown",
   "id": "128c5fe9",
   "metadata": {},
   "source": [
    "17. Write a Python program to find the intersection of two lists."
   ]
  },
  {
   "cell_type": "code",
   "execution_count": 19,
   "id": "af63a42e",
   "metadata": {},
   "outputs": [
    {
     "name": "stdout",
     "output_type": "stream",
     "text": [
      "Enter the first list of elements (space-separated): 12 23 45 67 87 45 23 45\n",
      "Enter the second list of elements (space-separated): 34 45 67 45 23 98 67\n",
      "intersection of ['12', '23', '45', '67', '87', '45', '23', '45'] and ['34', '45', '67', '45', '23', '98', '67'] is :\n",
      "\t\t['23', '45', '67']\n"
     ]
    }
   ],
   "source": [
    "def find_intersection(lst1,lst2):\n",
    "    l=[]\n",
    "    for i in lst1:\n",
    "        if i in lst2 and i not in l:\n",
    "            l.append(i)\n",
    "    return l\n",
    "in_list1 = input(\"Enter the first list of elements (space-separated): \").split()\n",
    "in_list2 = input(\"Enter the second list of elements (space-separated): \").split()\n",
    "print(f\"intersection of {in_list1} and {in_list2} is :\\n\\t\\t{find_intersection(in_list1,in_list2)}\")"
   ]
  },
  {
   "cell_type": "markdown",
   "id": "6867b091",
   "metadata": {},
   "source": [
    "18. Implement a function to find the maximum subarray sum in a given list."
   ]
  },
  {
   "cell_type": "code",
   "execution_count": 30,
   "id": "6c2b8d02",
   "metadata": {},
   "outputs": [
    {
     "name": "stdout",
     "output_type": "stream",
     "text": [
      "Enter elements to list :8,4,-9,12\n",
      "Maximum subarray sum: 15\n"
     ]
    }
   ],
   "source": [
    "def max_subarray_sum(nums):\n",
    "    max_sum = float('-inf') \n",
    "    current_sum = 0\n",
    "\n",
    "    for num in nums:\n",
    "        current_sum += num\n",
    "        \n",
    "        if current_sum < 0:\n",
    "            current_sum = 0\n",
    "\n",
    "        if current_sum > max_sum:\n",
    "            max_sum = current_sum\n",
    "\n",
    "    return max_sum\n",
    "\n",
    "in_list = [int(val) for val in input(\"Enter elements to list :\").split(\",\")]\n",
    " \n",
    "print(\"Maximum subarray sum:\", max_subarray_sum(in_list))"
   ]
  },
  {
   "cell_type": "markdown",
   "id": "85fed462",
   "metadata": {},
   "source": [
    "19. Write a program to remove all vowels from a given string."
   ]
  },
  {
   "cell_type": "code",
   "execution_count": 34,
   "id": "9cdebc89",
   "metadata": {},
   "outputs": [
    {
     "name": "stdout",
     "output_type": "stream",
     "text": [
      "Enter a string for removing vowels : binAya\n",
      "After removing vowels from binAya : bny\n"
     ]
    }
   ],
   "source": [
    "def remove_vowels(str):\n",
    "    vowels=\"aeiou\"\n",
    "    result=\"\"\n",
    "    for i in str.lower():\n",
    "        if i not in vowels:\n",
    "            result += i\n",
    "    return result\n",
    "\n",
    "in_str=input(\"Enter a string for removing vowels : \")\n",
    "print(f\"After removing vowels from {in_str} : {remove_vowels(in_str)}\")        "
   ]
  },
  {
   "cell_type": "markdown",
   "id": "8883ce03",
   "metadata": {},
   "source": [
    "20. Implement a function to reverse the order of words in a given sentence."
   ]
  },
  {
   "cell_type": "code",
   "execution_count": 39,
   "id": "7dea23c2",
   "metadata": {},
   "outputs": [
    {
     "name": "stdout",
     "output_type": "stream",
     "text": [
      "Enter a sentence : Implement a function to reverse the order of words in a given sentence\n",
      "Reverse of 'Implement a function to reverse the order of words in a given sentence' is 'sentence given a in words of order the reverse to function a Implement'\n"
     ]
    }
   ],
   "source": [
    "def rev_sentence(sentence):\n",
    "    words = sentence.split()\n",
    "    reversed_words = words[::-1]\n",
    "    reversed_sentence = \" \".join(reversed_words)\n",
    "    return reversed_sentence\n",
    "in_sentence = input(\"Enter a sentence : \")\n",
    "print(f\"Reverse of '{in_sentence}' is '{rev_sentence(in_sentence)}'\")"
   ]
  },
  {
   "cell_type": "markdown",
   "id": "64eff785",
   "metadata": {},
   "source": [
    "21. Write a Python program to check if two strings are anagrams of each other."
   ]
  },
  {
   "cell_type": "code",
   "execution_count": 40,
   "id": "579fcfb7",
   "metadata": {},
   "outputs": [
    {
     "name": "stdout",
     "output_type": "stream",
     "text": [
      "Enter first string :gourab\n",
      "Enter second string :Abrugo\n",
      "gourab and Abrugo are anagram of each other\n"
     ]
    }
   ],
   "source": [
    "def is_anagram(string1,string2):\n",
    "    string1 = string1.lower().replace(\" \",\"\")\n",
    "    string2 = string2.lower().replace(\" \",\"\")\n",
    "    \n",
    "    if len(string1) != len(string2):\n",
    "        return False\n",
    "    f1={}\n",
    "    f2={}\n",
    "    \n",
    "    for i in string1:\n",
    "        f1[i] = f1.get(i, 0) + 1\n",
    "    for i in string2:\n",
    "        f2[i] = f2.get(i, 0) + 1\n",
    "    \n",
    "    return f1 == f2\n",
    "in_string1=input(\"Enter first string :\")\n",
    "in_string2=input(\"Enter second string :\")\n",
    "if is_anagram(in_string1,in_string2):\n",
    "    print(f\"{in_string1} and {in_string2} are anagram of each other\")\n",
    "else:\n",
    "    print(f\"{in_string1} and {in_string2} are not anagram of each other\")"
   ]
  },
  {
   "cell_type": "markdown",
   "id": "dcdb2224",
   "metadata": {},
   "source": [
    "22. Implement a function to find the first non-repeating character in a string."
   ]
  },
  {
   "cell_type": "code",
   "execution_count": 54,
   "id": "f3693223",
   "metadata": {},
   "outputs": [
    {
     "name": "stdout",
     "output_type": "stream",
     "text": [
      "First non-repeating character of OpenAi is O\n"
     ]
    }
   ],
   "source": [
    "def first_nonrepeat_char(str):\n",
    "    for i in str:\n",
    "        if str.count(i) == 1:\n",
    "            return i\n",
    "    \n",
    "#in_string=input(\"Enter a string : \")\n",
    "in_string=\"OpenAi\"\n",
    "print(f\"First non-repeating character of {in_string} is {first_nonrepeat_char(in_string)}\")"
   ]
  },
  {
   "cell_type": "markdown",
   "id": "f8562614",
   "metadata": {},
   "source": [
    "23. Write a program to find the prime factors of a given number."
   ]
  },
  {
   "cell_type": "code",
   "execution_count": 59,
   "id": "b3957170",
   "metadata": {},
   "outputs": [
    {
     "name": "stdout",
     "output_type": "stream",
     "text": [
      "Enter the number : 35\n",
      "The prime factors of 35 is [5, 7]\n"
     ]
    }
   ],
   "source": [
    "def find_prime_factors(num):\n",
    "    factors = []\n",
    "    divisor = 2\n",
    "    while divisor <= num:\n",
    "        if num % divisor == 0:\n",
    "            factors.append(divisor)\n",
    "            num = num / divisor\n",
    "        else:\n",
    "            divisor += 1\n",
    "    return factors\n",
    "in_number = int(input(\"Enter the number : \"))\n",
    "print(f\"The prime factors of {in_number} is {find_prime_factors(in_number)}\")"
   ]
  },
  {
   "cell_type": "markdown",
   "id": "7614968c",
   "metadata": {},
   "source": [
    "24. Implement a function to check if a given number is a power of two."
   ]
  },
  {
   "cell_type": "code",
   "execution_count": 67,
   "id": "49f90e80",
   "metadata": {},
   "outputs": [
    {
     "name": "stdout",
     "output_type": "stream",
     "text": [
      "Enter a number : 32\n",
      "32 is a power of two\n"
     ]
    }
   ],
   "source": [
    "def is_power_of_two(num):\n",
    "    if num <= 0:\n",
    "        return False\n",
    "    \n",
    "    while num > 1:\n",
    "        if num % 2 != 0:\n",
    "            return False\n",
    "        num = num // 2\n",
    "    return True\n",
    "\n",
    "input_number = int(input(\"Enter a number : \"))\n",
    "\n",
    "if is_power_of_two(input_number):\n",
    "    print(input_number, \"is a power of two\")\n",
    "else:\n",
    "    print(input_number, \"is not a power of two\")\n"
   ]
  },
  {
   "cell_type": "markdown",
   "id": "362470d2",
   "metadata": {},
   "source": [
    "25. Write a Python program to merge two sorted lists into a single sorted list"
   ]
  },
  {
   "cell_type": "code",
   "execution_count": 74,
   "id": "f9bc747b",
   "metadata": {},
   "outputs": [
    {
     "name": "stdout",
     "output_type": "stream",
     "text": [
      "Enter elements of list1 : 1 4 6 9\n",
      "Enter elements of list2 : 2 3 5 8\n",
      "Merged and sorted list: [1.0, 2.0, 3.0, 4.0, 5.0, 6.0, 8.0, 9.0]\n"
     ]
    }
   ],
   "source": [
    "def merge_sorted_lists(list1, list2):\n",
    "    merged_list = []\n",
    "    i = 0\n",
    "    j = 0\n",
    "\n",
    "    while i < len(list1) and j < len(list2):\n",
    "        if list1[i] <= list2[j]:\n",
    "            merged_list.append(list1[i])\n",
    "            i += 1\n",
    "        else:\n",
    "            merged_list.append(list2[j])\n",
    "            j += 1\n",
    "\n",
    "    while i < len(list1):\n",
    "        merged_list.append(list1[i])\n",
    "        i += 1\n",
    "\n",
    "    while j < len(list2):\n",
    "        merged_list.append(list2[j])\n",
    "        j += 1\n",
    "\n",
    "    return merged_list\n",
    "\n",
    "\n",
    "list1 = [float(val) for val in input(\"Enter elements of list1 : \").split()]\n",
    "list2 = [float(val) for val in input(\"Enter elements of list2 : \").split()]\n",
    "result = merge_sorted_lists(list1, list2)\n",
    "print(\"Merged and sorted list:\", result)"
   ]
  },
  {
   "cell_type": "markdown",
   "id": "6b95037b",
   "metadata": {},
   "source": [
    "26. Implement a function to find the mode of a list of numbers."
   ]
  },
  {
   "cell_type": "code",
   "execution_count": 77,
   "id": "c9edde12",
   "metadata": {},
   "outputs": [
    {
     "name": "stdout",
     "output_type": "stream",
     "text": [
      "Enter elements of list : 1, 2, 3, 2, 4, 3, 2, 1, 4, 4\n",
      "Mode in list [1, 2, 3, 2, 4, 3, 2, 1, 4, 4] is [2, 4]\n"
     ]
    }
   ],
   "source": [
    "def mode_list(lst):\n",
    "    d={}\n",
    "    for i in lst:\n",
    "        d[i] = lst.count(i)\n",
    "    mode = [key for key,val in d.items() if val == max(d.values())]\n",
    "    return mode\n",
    "\n",
    "in_list = [int(val) for val in input(\"Enter elements of list : \").split(',')]\n",
    "print(f\"Mode in list {in_list} is {mode_list(in_list)}\")"
   ]
  },
  {
   "cell_type": "markdown",
   "id": "0a988d79",
   "metadata": {},
   "source": [
    "27. Write a program to find the greatest common divisor (GCD) of two numbers."
   ]
  },
  {
   "cell_type": "code",
   "execution_count": 78,
   "id": "c64c06a6",
   "metadata": {},
   "outputs": [
    {
     "name": "stdout",
     "output_type": "stream",
     "text": [
      "Enter 1st number : 45\n",
      "Enter 2nd number : 30\n",
      "Greatest common divisor between 45 and 30 is 15\n"
     ]
    }
   ],
   "source": [
    "def find_gcd(num1,num2):\n",
    "    while num2 != 0:\n",
    "        num1,num2 = num2,num1 % num2\n",
    "    return num1\n",
    "\n",
    "in_num1=int(input(\"Enter 1st number : \"))\n",
    "in_num2=int(input(\"Enter 2nd number : \"))\n",
    "print(f\"Greatest common divisor between {in_num1} and {in_num2} is {find_gcd(in_num1,in_num2)}\")"
   ]
  },
  {
   "cell_type": "markdown",
   "id": "75ca393a",
   "metadata": {},
   "source": [
    "28. Implement a function to calculate the square root of a given number."
   ]
  },
  {
   "cell_type": "code",
   "execution_count": 84,
   "id": "2684f453",
   "metadata": {},
   "outputs": [
    {
     "name": "stdout",
     "output_type": "stream",
     "text": [
      "Enter a number to find square root : 29.32\n",
      "Square root of 29.32 is 5.41\n"
     ]
    }
   ],
   "source": [
    "def sqrt(num):\n",
    "    if num < 0:\n",
    "        return \"Invalid number to find square root\"\n",
    "    s = num ** 0.5\n",
    "    return s\n",
    "in_num = float(input(\"Enter a number to find square root : \"))\n",
    "print(f\"Square root of {in_num} is {round(sqrt(in_num),2)}\")"
   ]
  },
  {
   "cell_type": "markdown",
   "id": "dd656001",
   "metadata": {},
   "source": [
    "29. Write a Python program to check if a given string is a valid palindrome ignoring non-alphanumeric characters."
   ]
  },
  {
   "cell_type": "code",
   "execution_count": 87,
   "id": "d04ca664",
   "metadata": {},
   "outputs": [
    {
     "name": "stdout",
     "output_type": "stream",
     "text": [
      "Enter a string : 8@abe : deba8\n",
      "8@abe : deba8 is a valid palindrome.\n"
     ]
    }
   ],
   "source": [
    "import re\n",
    "\n",
    "def is_valid_palindrome(str):\n",
    "    str = re.sub(r'[^a-zA-Z0-9]', '', str)\n",
    "    \n",
    "    str = str.lower()\n",
    "    \n",
    "    return str == str[::-1]\n",
    "\n",
    "\n",
    "in_string = input(\"Enter a string : \")\n",
    "\n",
    "if is_valid_palindrome(in_string):\n",
    "    print(f\"{in_string} is a valid palindrome.\")\n",
    "else:\n",
    "    print(f\"{in_string} is not a valid palindrome.\")"
   ]
  },
  {
   "cell_type": "markdown",
   "id": "3e87e9fb",
   "metadata": {},
   "source": [
    "30. Implement a function to find the minimum element in a rotated sorted list."
   ]
  },
  {
   "cell_type": "code",
   "execution_count": 89,
   "id": "7cecf7b8",
   "metadata": {},
   "outputs": [
    {
     "name": "stdout",
     "output_type": "stream",
     "text": [
      "Enter the elements of rotated list : 10,12,14,16,8,9\n",
      "Minimum element in the rotated sorted list: 8.0\n"
     ]
    }
   ],
   "source": [
    "def find_minimum(nums):\n",
    "    left = 0\n",
    "    right = len(nums) - 1\n",
    "\n",
    "    while left < right:\n",
    "        mid = left + (right - left) // 2\n",
    "\n",
    "        if nums[mid] > nums[right]:\n",
    "            left = mid + 1\n",
    "        else:\n",
    "            right = mid\n",
    "\n",
    "    return nums[left]\n",
    "\n",
    "\n",
    "rotated_list = [float(val) for val in input(\"Enter the elements of rotated list : \").split(\",\")]\n",
    "result = find_minimum(rotated_list)\n",
    "print(\"Minimum element in the rotated sorted list:\", result)"
   ]
  },
  {
   "cell_type": "markdown",
   "id": "2d274634",
   "metadata": {},
   "source": [
    "31. Write a program to find the sum of all even numbers in a list."
   ]
  },
  {
   "cell_type": "code",
   "execution_count": 90,
   "id": "996ec8bf",
   "metadata": {},
   "outputs": [
    {
     "name": "stdout",
     "output_type": "stream",
     "text": [
      "Enter the elements of list : 1,22,34,45,12,11\n",
      "the sum of all even numbers of [1, 22, 34, 45, 12, 11] is 68\n"
     ]
    }
   ],
   "source": [
    "def sum_even_nos(lst):\n",
    "    sum=0\n",
    "    for i in lst:\n",
    "        if i % 2 == 0:\n",
    "            sum += i\n",
    "    return sum\n",
    "in_list = [int(val) for val in input(\"Enter the elements of list : \").split(\",\")]\n",
    "print(f\"the sum of all even numbers of {in_list} is {sum_even_nos(in_list)}\")"
   ]
  },
  {
   "cell_type": "markdown",
   "id": "b60394b7",
   "metadata": {},
   "source": [
    "32. Implement a function to calculate the power of a number using recursion."
   ]
  },
  {
   "cell_type": "code",
   "execution_count": 93,
   "id": "a1b6ba80",
   "metadata": {},
   "outputs": [
    {
     "name": "stdout",
     "output_type": "stream",
     "text": [
      "Enter base :2\n",
      "Enter exponent :-2\n",
      "2 raised to the power of -2 : 0.25\n"
     ]
    }
   ],
   "source": [
    "def power(base,expo):\n",
    "    if expo == 0:\n",
    "        return 1\n",
    "    elif expo > 0:\n",
    "        return base * power(base,expo-1)\n",
    "    else:\n",
    "        return 1/(base * power(base,-expo-1))\n",
    "    \n",
    "base=int(input(\"Enter base :\"))\n",
    "expo=int(input(\"Enter exponent :\"))\n",
    "print(f\"{base} raised to the power of {expo} : {power(base,expo)}\")"
   ]
  },
  {
   "cell_type": "markdown",
   "id": "b27f7975",
   "metadata": {},
   "source": [
    "33. Write a Python program to remove duplicates from a list while preserving the order."
   ]
  },
  {
   "cell_type": "code",
   "execution_count": 95,
   "id": "a414395c",
   "metadata": {},
   "outputs": [
    {
     "name": "stdout",
     "output_type": "stream",
     "text": [
      "List with duplicates removed: [1, 2, 3, 4, 5, 6]\n"
     ]
    }
   ],
   "source": [
    "def remove_duplicates(lst):\n",
    "    rm_lst = set()\n",
    "    result = []\n",
    "\n",
    "    for item in lst:\n",
    "        if item not in rm_lst:\n",
    "            result.append(item)\n",
    "            rm_lst.add(item)\n",
    "\n",
    "    return result\n",
    "\n",
    "\n",
    "my_list = [1, 2, 3, 2, 4, 1, 5, 6, 3, 5]\n",
    "print(\"List with duplicates removed:\", remove_duplicates(my_list))"
   ]
  },
  {
   "cell_type": "markdown",
   "id": "6fadbc20",
   "metadata": {},
   "source": [
    "34. Implement a function to find the longest common prefix among a list of strings."
   ]
  },
  {
   "cell_type": "code",
   "execution_count": 102,
   "id": "5142a019",
   "metadata": {},
   "outputs": [
    {
     "name": "stdout",
     "output_type": "stream",
     "text": [
      "Longest common prefix: ap\n"
     ]
    }
   ],
   "source": [
    "def longest_common_prefix(strs):\n",
    "    if not strs:\n",
    "        return \"\"\n",
    "\n",
    "    min_length = min(len(s) for s in strs)\n",
    "    prefix = \"\"\n",
    "\n",
    "    for i in range(min_length):\n",
    "        char = strs[0][i]\n",
    "\n",
    "        if all(s[i] == char for s in strs):\n",
    "            prefix += char\n",
    "        else:\n",
    "            break\n",
    "\n",
    "    return prefix\n",
    "\n",
    "string_list = [\"apple\", \"ape\", \"app\"]\n",
    "\n",
    "print(\"Longest common prefix:\", longest_common_prefix(string_list))"
   ]
  },
  {
   "cell_type": "markdown",
   "id": "f57e6fa6",
   "metadata": {},
   "source": [
    "35. Write a program to check if a given number is a perfect square."
   ]
  },
  {
   "cell_type": "code",
   "execution_count": 110,
   "id": "f32c576f",
   "metadata": {},
   "outputs": [
    {
     "name": "stdout",
     "output_type": "stream",
     "text": [
      "Enter a number to check perfect square or not : 64\n",
      "64 is a perfectsquare\n"
     ]
    }
   ],
   "source": [
    "def is_perfectsquare(num):\n",
    "    if num < 0:\n",
    "        return False\n",
    "    sqrt = int(num**0.5)\n",
    "    \n",
    "    return (sqrt*sqrt) == num\n",
    "\n",
    "in_number=int(input(\"Enter a number to check perfect square or not : \"))\n",
    "if is_perfectsquare(in_number):\n",
    "    print(f\"{in_number} is a perfectsquare\")\n",
    "else:\n",
    "    print(f\"{in_number} is not a perfectsquare\")"
   ]
  },
  {
   "cell_type": "markdown",
   "id": "d5ec5887",
   "metadata": {},
   "source": [
    "36. Implement a function to calculate the product of all elements in a list."
   ]
  },
  {
   "cell_type": "code",
   "execution_count": 112,
   "id": "70d7590a",
   "metadata": {},
   "outputs": [
    {
     "name": "stdout",
     "output_type": "stream",
     "text": [
      "Enter elements of list :1 3 5 6 4\n",
      "the product of all the elements of [1, 3, 5, 6, 4] is 360\n"
     ]
    }
   ],
   "source": [
    "def product_list(lst):\n",
    "    p=1\n",
    "    for i in lst:\n",
    "        p *= i\n",
    "    return p\n",
    "in_lst=[int(val) for val in input(\"Enter elements of list :\").split()]\n",
    "print(f\"the product of all the elements of {in_lst} is {product_list(in_lst)}\")"
   ]
  },
  {
   "cell_type": "markdown",
   "id": "ca9d6c4a",
   "metadata": {},
   "source": [
    "37. Write a Python program to reverse the order of words in a sentence while preserving the word order."
   ]
  },
  {
   "cell_type": "code",
   "execution_count": 124,
   "id": "36253f3f",
   "metadata": {},
   "outputs": [
    {
     "name": "stdout",
     "output_type": "stream",
     "text": [
      "Enter a sentence : Hello, How Are You?\n",
      "Reversed sentence of 'Hello, How Are You?' : 'you? are how world, Hello'\n"
     ]
    }
   ],
   "source": [
    "def reverse_words(sentence):\n",
    "    words = sentence.split()\n",
    "    reversed_sentence = ' '.join(words[::-1])\n",
    "    return reversed_sentence\n",
    "\n",
    "\n",
    "in_sentence = input(\"Enter a sentence : \")\n",
    "print(f\"Reversed sentence of '{in_sentence}' : '{reverse_words(my_sentence)}'\")"
   ]
  },
  {
   "cell_type": "markdown",
   "id": "4bb40323",
   "metadata": {},
   "source": [
    "38. Implement a function to find the missing number in a given list of consecutive numbers."
   ]
  },
  {
   "cell_type": "code",
   "execution_count": 131,
   "id": "78e31372",
   "metadata": {},
   "outputs": [
    {
     "name": "stdout",
     "output_type": "stream",
     "text": [
      "Enter cosecutive numbers with one missing number : 1,2,3,4\n",
      "Missing number in [1, 2, 3, 4] is 5\n"
     ]
    }
   ],
   "source": [
    "def find_missing_number(nums):\n",
    "    n = len(nums) + 1\n",
    "    expected_sum = (n * (n + 1)) // 2\n",
    "    actual_sum = sum(nums)\n",
    "    missing_number = expected_sum - actual_sum\n",
    "    \n",
    "    return missing_number\n",
    "\n",
    "\n",
    "in_list = [int(val) for val in input(\"Enter cosecutive numbers with one missing number : \").split(',')] \n",
    "print(f\"Missing number in {in_list} is {find_missing_number(in_list)}\")"
   ]
  },
  {
   "cell_type": "markdown",
   "id": "7460e78f",
   "metadata": {},
   "source": [
    "39. Write a program to find the sum of digits of a given number."
   ]
  },
  {
   "cell_type": "code",
   "execution_count": 133,
   "id": "0b3f99d7",
   "metadata": {},
   "outputs": [
    {
     "name": "stdout",
     "output_type": "stream",
     "text": [
      "Enter the number : 143\n",
      "The sum of all the digits of 143 : 8\n"
     ]
    }
   ],
   "source": [
    "def digit_sum(num):\n",
    "    sum=0\n",
    "    while num>0:\n",
    "        digit = num%10\n",
    "        sum += digit\n",
    "        num //= 10\n",
    "    return sum\n",
    "\n",
    "in_number=int(input(\"Enter the number : \"))\n",
    "print(f\"The sum of all the digits of {in_number} : {digit_sum(in_number)}\")    "
   ]
  },
  {
   "cell_type": "markdown",
   "id": "306303ef",
   "metadata": {},
   "source": [
    "40. Implement a function to check if a given string is a valid palindrome considering case sensitivity."
   ]
  },
  {
   "cell_type": "code",
   "execution_count": 139,
   "id": "e8f0a5a5",
   "metadata": {},
   "outputs": [
    {
     "name": "stdout",
     "output_type": "stream",
     "text": [
      "Enter a string : le Vel\n",
      "le Vel is a valid palindrome\n"
     ]
    }
   ],
   "source": [
    "def is_palindrome(str):\n",
    "    new_str = \" \".join(char for char in str if char.isalnum())\n",
    "    return new_str == new_str[::-1]\n",
    "\n",
    "in_string = input(\"Enter a string : \")\n",
    "if is_palindrome(in_string):\n",
    "    print(f\"{in_string} is a valid palindrome\")\n",
    "else:\n",
    "    print(f\"{in_string} is not a valid palindrome\")"
   ]
  },
  {
   "cell_type": "markdown",
   "id": "0d8f5356",
   "metadata": {},
   "source": [
    "41. Write a Python program to find the smallest missing positive integer in a list."
   ]
  },
  {
   "cell_type": "code",
   "execution_count": 150,
   "id": "deb2ed77",
   "metadata": {},
   "outputs": [
    {
     "name": "stdout",
     "output_type": "stream",
     "text": [
      "Smallest missing positive: 4\n"
     ]
    }
   ],
   "source": [
    "def find_smallest_missing_positive(nums):\n",
    "    n = len(nums)\n",
    "\n",
    "    # Moving all non-positive numbers and numbers greater than n to the right side\n",
    "    i = 0\n",
    "    while i < n:\n",
    "        if nums[i] <= 0 or nums[i] > n:\n",
    "            nums[i], nums[n-1] = nums[n-1], nums[i]\n",
    "            n -= 1\n",
    "        else:\n",
    "            i += 1\n",
    "\n",
    "    # Marking the presence of positive numbers within the range of 1 to n\n",
    "    for i in range(n):\n",
    "        index = abs(nums[i]) - 1\n",
    "        if index < n and nums[index] > 0:\n",
    "            nums[index] = -nums[index]\n",
    "\n",
    "    # Finding the smallest missing positive number\n",
    "    for i in range(n):\n",
    "        if nums[i] > 0:\n",
    "            return i + 1\n",
    "\n",
    "    return n + 1\n",
    "\n",
    "in_list = [3, 5, -1, 1, 6, 2]\n",
    "print(\"Smallest missing positive:\", find_smallest_missing_positive(in_list))"
   ]
  },
  {
   "cell_type": "markdown",
   "id": "71390854",
   "metadata": {},
   "source": [
    "42. Implement a function to find the longest palindrome substring in a given string."
   ]
  },
  {
   "cell_type": "code",
   "execution_count": 146,
   "id": "add732ed",
   "metadata": {},
   "outputs": [
    {
     "name": "stdout",
     "output_type": "stream",
     "text": [
      "Longest palindrome substring: aba\n"
     ]
    }
   ],
   "source": [
    "def longest_palindrome_substring(s):\n",
    "    if len(s) < 2:\n",
    "        return s\n",
    "\n",
    "    start = 0\n",
    "    end = 0\n",
    "\n",
    "    for i in range(len(s)):\n",
    "        len1 = expand_around_center(s, i, i)\n",
    "        len2 = expand_around_center(s, i, i+1)\n",
    "        max_len = max(len1, len2)\n",
    "\n",
    "        if max_len > end - start:\n",
    "            start = i - (max_len - 1) // 2\n",
    "            end = i + max_len // 2\n",
    "\n",
    "    return s[start:end+1]\n",
    "\n",
    "\n",
    "def expand_around_center(s, left, right):\n",
    "    while left >= 0 and right < len(s) and s[left] == s[right]:\n",
    "        left -= 1\n",
    "        right += 1\n",
    "\n",
    "    return right - left - 1\n",
    "\n",
    "\n",
    "my_string = \"babad\"\n",
    "print(\"Longest palindrome substring:\", longest_palindrome_substring(my_string))"
   ]
  },
  {
   "cell_type": "markdown",
   "id": "ba46b5cf",
   "metadata": {},
   "source": [
    "43. Write a program to find the number of occurrences of a given element in a list."
   ]
  },
  {
   "cell_type": "code",
   "execution_count": 142,
   "id": "77a71bfc",
   "metadata": {},
   "outputs": [
    {
     "name": "stdout",
     "output_type": "stream",
     "text": [
      "Enter elements to list : 1 2 3 1 2 4 3 2 1 1 9\n",
      "Enter the target from list to find number of occurrence : 1\n",
      "1 found in [1, 2, 3, 1, 2, 4, 3, 2, 1, 1, 9] , 4 times\n"
     ]
    }
   ],
   "source": [
    "def find_occurrence(list,num):\n",
    "    count=0\n",
    "    for i in list:\n",
    "        if i == num:\n",
    "            count += 1\n",
    "    return count\n",
    "\n",
    "in_list=[int(val) for val in input(\"Enter elements to list : \").split()]\n",
    "target=int(input(\"Enter the target from list to find number of occurrence : \"))\n",
    "print(f\"{target} found in {in_list} , {find_occurrence(in_list,target)} times\")"
   ]
  },
  {
   "cell_type": "markdown",
   "id": "2dbf3610",
   "metadata": {},
   "source": [
    "44. Implement a function to check if a given number is a perfect number."
   ]
  },
  {
   "cell_type": "code",
   "execution_count": null,
   "id": "50d4f0b4",
   "metadata": {},
   "outputs": [],
   "source": [
    "def is_perfect(num):\n",
    "    if num<=0:\n",
    "        return False\n",
    "    divisor_sum=0\n",
    "    for i in range(1,num):\n",
    "        if num % i == 0:\n",
    "            divisor_sum += i\n",
    "    return divisor_sum == num\n",
    "in_number = int(input(\"Enter a number : \"))\n",
    "if is_perfect(in_number):\n",
    "    print(f\"{in_number} is a perfect number\")\n",
    "else:\n",
    "    print(f\"{in_number} is not a perfect number\")"
   ]
  },
  {
   "cell_type": "markdown",
   "id": "e5025f3a",
   "metadata": {},
   "source": [
    "45. Write a Python program to remove all duplicates from a string."
   ]
  },
  {
   "cell_type": "code",
   "execution_count": 145,
   "id": "f1963b10",
   "metadata": {},
   "outputs": [
    {
     "name": "stdout",
     "output_type": "stream",
     "text": [
      "Enter a string : BinayAb\n",
      "after removing duplicates from BinayAb : binay\n"
     ]
    }
   ],
   "source": [
    "def remove_duplicates(str):\n",
    "    new_str=\"\"\n",
    "    for i in str.lower():\n",
    "        if i not in new_str:\n",
    "            new_str += i\n",
    "    return new_str\n",
    "in_string=input(\"Enter a string : \")\n",
    "print(f\"after removing duplicates from {in_string} : {remove_duplicates(in_string)}\")    "
   ]
  },
  {
   "cell_type": "code",
   "execution_count": null,
   "id": "8bf965c9",
   "metadata": {},
   "outputs": [],
   "source": [
    "46. Implement a function to find the first missing positive integer in a list."
   ]
  },
  {
   "cell_type": "code",
   "execution_count": 148,
   "id": "d1643230",
   "metadata": {},
   "outputs": [
    {
     "name": "stdout",
     "output_type": "stream",
     "text": [
      "First missing positive number : 5\n"
     ]
    }
   ],
   "source": [
    "def find_first_missing_positive(nums):\n",
    "    n = len(nums)\n",
    "\n",
    "    # Moving all non-positive numbers and numbers greater than n to the right side\n",
    "    i = 0\n",
    "    while i < n:\n",
    "        if nums[i] <= 0 or nums[i] > n:\n",
    "            nums[i], nums[n-1] = nums[n-1], nums[i]\n",
    "            n -= 1\n",
    "        else:\n",
    "            i += 1\n",
    "\n",
    "    # Marking the presence of positive numbers within the range of 1 to n\n",
    "    for i in range(n):\n",
    "        index = abs(nums[i]) - 1\n",
    "        if index < n:\n",
    "            nums[index] = -abs(nums[index])\n",
    "\n",
    "    # Finding the first missing positive number\n",
    "    for i in range(n):\n",
    "        if nums[i] > 0:\n",
    "            return i + 1\n",
    "\n",
    "    return n + 1\n",
    "\n",
    "in_list = [3, 4, -1, 1, 6, 2]\n",
    "print(\"First missing positive number :\", find_first_missing_positive(in_list))"
   ]
  }
 ],
 "metadata": {
  "kernelspec": {
   "display_name": "Python 3 (ipykernel)",
   "language": "python",
   "name": "python3"
  },
  "language_info": {
   "codemirror_mode": {
    "name": "ipython",
    "version": 3
   },
   "file_extension": ".py",
   "mimetype": "text/x-python",
   "name": "python",
   "nbconvert_exporter": "python",
   "pygments_lexer": "ipython3",
   "version": "3.9.13"
  }
 },
 "nbformat": 4,
 "nbformat_minor": 5
}
