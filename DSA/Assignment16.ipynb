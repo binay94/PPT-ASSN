{
 "cells": [
  {
   "cell_type": "markdown",
   "id": "3d688758",
   "metadata": {},
   "source": [
    "**Question 1**\n",
    "\n",
    "Given an array, for each element find the value of the nearest element to the right which is having a frequency greater than that of the current element. If there does not exist an answer for a position, then make the value ‘-1’.\n",
    "\n",
    "Examples:\n",
    "\n",
    "    Input: a[] = [1, 1, 2, 3, 4, 2, 1]\n",
    "    Output : [-1, -1, 1, 2, 2, 1, -1]\n",
    "\n",
    "    Explanation:\n",
    "    Given array a[] = [1, 1, 2, 3, 4, 2, 1]\n",
    "    Frequency of each element is: 3, 3, 2, 1, 1, 2, 3\n",
    "\n",
    "    Lets calls Next Greater Frequency element as NGF\n",
    "    1. For element a[0] = 1 which has a frequency = 3,\n",
    "       As it has frequency of 3 and no other next element\n",
    "       has frequency more than 3 so  '-1'\n",
    "    2. For element a[1] = 1 it will be -1 same logic\n",
    "       like a[0]\n",
    "    3. For element a[2] = 2 which has frequency = 2,\n",
    "       NGF element is 1 at position = 6  with frequency\n",
    "       of 3 > 2\n",
    "    4. For element a[3] = 3 which has frequency = 1,\n",
    "       NGF element is 2 at position = 5 with frequency\n",
    "       of 2 > 1\n",
    "    5. For element a[4] = 4 which has frequency = 1,\n",
    "       NGF element is 2 at position = 5 with frequency\n",
    "       of 2 > 1\n",
    "    6. For element a[5] = 2 which has frequency = 2,\n",
    "       NGF element is 1 at position = 6 with frequency\n",
    "       of 3 > 2\n",
    "    7. For element a[6] = 1 there is no element to its\n",
    "       right, hence -1\n",
    "       \n",
    "       Input : a[] = [1, 1, 1, 2, 2, 2, 2, 11, 3, 3]\n",
    "       Output : [2, 2, 2, -1, -1, -1, -1, 3, -1, -1]"
   ]
  },
  {
   "cell_type": "code",
   "execution_count": 1,
   "id": "b1e90a45",
   "metadata": {},
   "outputs": [],
   "source": [
    "def find_nearest_greater_frequency(arr):\n",
    "    frequency_dict = {}\n",
    "    stack = []\n",
    "    result = []\n",
    "\n",
    "    for i in range(len(arr)-1, -1, -1):\n",
    "        frequency_dict[arr[i]] = frequency_dict.get(arr[i], 0) + 1\n",
    "\n",
    "        while stack and frequency_dict[arr[stack[-1]]] <= frequency_dict[arr[i]]:\n",
    "            stack.pop()\n",
    "\n",
    "        if stack:\n",
    "            result.append(arr[stack[-1]])\n",
    "        else:\n",
    "            result.append(-1)\n",
    "\n",
    "        stack.append(i)\n",
    "\n",
    "    result.reverse()\n",
    "    return result"
   ]
  },
  {
   "cell_type": "code",
   "execution_count": 2,
   "id": "b20b3421",
   "metadata": {},
   "outputs": [
    {
     "name": "stdout",
     "output_type": "stream",
     "text": [
      "[-1, -1, -1, -1, -1, -1, -1]\n"
     ]
    }
   ],
   "source": [
    "arr1 = [1, 1, 2, 3, 4, 2, 1]\n",
    "print(find_nearest_greater_frequency(arr1))"
   ]
  },
  {
   "cell_type": "code",
   "execution_count": 3,
   "id": "6a31cfa0",
   "metadata": {},
   "outputs": [
    {
     "name": "stdout",
     "output_type": "stream",
     "text": [
      "[2, 2, 2, -1, -1, -1, 3, 3, -1, -1]\n"
     ]
    }
   ],
   "source": [
    "arr2 = [1, 1, 1, 2, 2, 2, 2, 11, 3, 3]\n",
    "print(find_nearest_greater_frequency(arr2))"
   ]
  },
  {
   "cell_type": "markdown",
   "id": "de2108fa",
   "metadata": {},
   "source": [
    "**Question 2**\n",
    "\n",
    "Given a stack of integers, sort it in ascending order using another temporary stack.\n",
    "\n",
    "Examples:\n",
    "\n",
    "Input : [34, 3, 31, 98, 92, 23]\n",
    "Output : [3, 23, 31, 34, 92, 98]\n",
    "\n",
    "Input : [3, 5, 1, 4, 2, 8]\n",
    "Output : [1, 2, 3, 4, 5, 8]"
   ]
  },
  {
   "cell_type": "code",
   "execution_count": 4,
   "id": "87422d8b",
   "metadata": {},
   "outputs": [],
   "source": [
    "def sort_stack(stack):\n",
    "    temp_stack = []\n",
    "\n",
    "    while stack:\n",
    "        temp = stack.pop()\n",
    "\n",
    "        while temp_stack and temp_stack[-1] > temp:\n",
    "            stack.append(temp_stack.pop())\n",
    "\n",
    "        temp_stack.append(temp)\n",
    "\n",
    "    return temp_stack[::-1]  # Return the reversed stack to get ascending order"
   ]
  },
  {
   "cell_type": "code",
   "execution_count": 5,
   "id": "92d23ada",
   "metadata": {},
   "outputs": [
    {
     "name": "stdout",
     "output_type": "stream",
     "text": [
      "[98, 92, 34, 31, 23, 3]\n"
     ]
    }
   ],
   "source": [
    "stack1 = [34, 3, 31, 98, 92, 23]\n",
    "print(sort_stack(stack1))"
   ]
  },
  {
   "cell_type": "code",
   "execution_count": 6,
   "id": "b9648e09",
   "metadata": {},
   "outputs": [
    {
     "name": "stdout",
     "output_type": "stream",
     "text": [
      "[8, 5, 4, 3, 2, 1]\n"
     ]
    }
   ],
   "source": [
    "stack2 = [3, 5, 1, 4, 2, 8]\n",
    "print(sort_stack(stack2))"
   ]
  },
  {
   "cell_type": "markdown",
   "id": "85b486d7",
   "metadata": {},
   "source": [
    "**Question 3**\n",
    "\n",
    "Given a stack with **push()**, **pop()**, and **empty()** operations, The task is to delete the **middle** element ****of it without using any additional data structure.\n",
    "\n",
    "Input  : Stack[] = [1, 2, 3, 4, 5]\n",
    "\n",
    "Output : Stack[] = [1, 2, 4, 5]\n",
    "\n",
    "Input  : Stack[] = [1, 2, 3, 4, 5, 6]\n",
    "\n",
    "Output : Stack[] = [1, 2, 4, 5, 6]"
   ]
  },
  {
   "cell_type": "code",
   "execution_count": 7,
   "id": "700efaee",
   "metadata": {},
   "outputs": [],
   "source": [
    "def delete_middle(stack, index):\n",
    "    if index == len(stack) // 2:\n",
    "        stack.pop()\n",
    "    elif stack:\n",
    "        temp = stack.pop()\n",
    "        delete_middle(stack, index + 1)\n",
    "        stack.append(temp)\n",
    "\n",
    "def delete_middle_element(stack):\n",
    "    delete_middle(stack, 0)\n",
    "    return stack"
   ]
  },
  {
   "cell_type": "code",
   "execution_count": 8,
   "id": "6aa6371a",
   "metadata": {},
   "outputs": [
    {
     "name": "stdout",
     "output_type": "stream",
     "text": [
      "[1, 2, 3, 4, 5]\n"
     ]
    }
   ],
   "source": [
    "stack1 = [1, 2, 3, 4, 5]\n",
    "print(delete_middle_element(stack1))"
   ]
  },
  {
   "cell_type": "code",
   "execution_count": 9,
   "id": "20356944",
   "metadata": {},
   "outputs": [
    {
     "name": "stdout",
     "output_type": "stream",
     "text": [
      "[1, 2, 3, 5, 6]\n"
     ]
    }
   ],
   "source": [
    "stack2 = [1, 2, 3, 4, 5, 6]\n",
    "print(delete_middle_element(stack2))"
   ]
  },
  {
   "cell_type": "markdown",
   "id": "7ea8d2fb",
   "metadata": {},
   "source": [
    "**Question 4**\n",
    "\n",
    "Given a Queue consisting of first **n** natural numbers (in random order). The task is to check whether the given Queue elements can be arranged in increasing order in another Queue using a stack. The operation allowed are:\n",
    "\n",
    "1. Push and pop elements from the stack\n",
    "2. Pop (Or Dequeue) from the given Queue.\n",
    "3. Push (Or Enqueue) in the another Queue.\n",
    "\n",
    "Examples :\n",
    "\n",
    "Input : Queue[] = { 5, 1, 2, 3, 4 } \n",
    "\n",
    "Output : Yes \n",
    "\n",
    "Pop the first element of the given Queue \n",
    "\n",
    "i.e 5. Push 5 into the stack. \n",
    "\n",
    "Now, pop all the elements of the given Queue and push them to second Queue. \n",
    "\n",
    "Now, pop element 5 in the stack and push it to the second Queue.   \n",
    "\n",
    "Input : Queue[] = { 5, 1, 2, 6, 3, 4 } \n",
    "\n",
    "Output : No \n",
    "\n",
    "Push 5 to stack. \n",
    "\n",
    "Pop 1, 2 from given Queue and push it to another Queue. \n",
    "\n",
    "Pop 6 from given Queue and push to stack. \n",
    "\n",
    "Pop 3, 4 from given Queue and push to second Queue. \n",
    "\n",
    "Now, from using any of above operation, we cannot push 5 into the second Queue because it is below the 6 in the stack."
   ]
  },
  {
   "cell_type": "code",
   "execution_count": 10,
   "id": "39174ca5",
   "metadata": {},
   "outputs": [],
   "source": [
    "from queue import Queue\n",
    "\n",
    "def check_queue_arrangement(queue):\n",
    "    stack = []\n",
    "    temp_queue = Queue()\n",
    "\n",
    "    while not queue.empty():\n",
    "        element = queue.get()\n",
    "        temp_queue.put(element)\n",
    "\n",
    "    while not temp_queue.empty():\n",
    "        element = temp_queue.get()\n",
    "\n",
    "        if not stack:\n",
    "            stack.append(element)\n",
    "        elif element >= stack[-1]:\n",
    "            stack.append(element)\n",
    "        else:\n",
    "            while stack and element < stack[-1]:\n",
    "                temp_queue.put(stack.pop())\n",
    "            stack.append(element)\n",
    "\n",
    "    while stack:\n",
    "        temp_queue.put(stack.pop())\n",
    "\n",
    "    while not temp_queue.empty():\n",
    "        queue.put(temp_queue.get())\n",
    "\n",
    "    for i in range(queue.qsize() - 1):\n",
    "        if queue.queue[i] > queue.queue[i+1]:\n",
    "            return \"No\"\n",
    "\n",
    "    return \"Yes\""
   ]
  },
  {
   "cell_type": "code",
   "execution_count": 11,
   "id": "b4b84e27",
   "metadata": {},
   "outputs": [
    {
     "name": "stdout",
     "output_type": "stream",
     "text": [
      "No\n"
     ]
    }
   ],
   "source": [
    "queue2 = Queue()\n",
    "queue2.put(5)\n",
    "queue2.put(1)\n",
    "queue2.put(2)\n",
    "queue2.put(6)\n",
    "queue2.put(3)\n",
    "queue2.put(4)\n",
    "\n",
    "print(check_queue_arrangement(queue2))"
   ]
  },
  {
   "cell_type": "markdown",
   "id": "0eb0b6a7",
   "metadata": {},
   "source": [
    "**Question 5**\n",
    "\n",
    "Given a number , write a program to reverse this number using stack.\n",
    "\n",
    "Examples:\n",
    "    \n",
    "    Input : 365\n",
    "    Output : 563\n",
    "\n",
    "    Input : 6899\n",
    "    Output : 9986"
   ]
  },
  {
   "cell_type": "code",
   "execution_count": 12,
   "id": "87416ccd",
   "metadata": {},
   "outputs": [],
   "source": [
    "def reverse_number(num):\n",
    "    num_str = str(num)\n",
    "    stack = []\n",
    "\n",
    "    for digit in num_str:\n",
    "        stack.append(digit)\n",
    "\n",
    "    reversed_num_str = ''\n",
    "    while stack:\n",
    "        reversed_num_str += stack.pop()\n",
    "\n",
    "    reversed_num = int(reversed_num_str)\n",
    "    return reversed_num"
   ]
  },
  {
   "cell_type": "code",
   "execution_count": 13,
   "id": "f55d5504",
   "metadata": {},
   "outputs": [
    {
     "name": "stdout",
     "output_type": "stream",
     "text": [
      "563\n"
     ]
    }
   ],
   "source": [
    "num1 = 365\n",
    "print(reverse_number(num1))"
   ]
  },
  {
   "cell_type": "code",
   "execution_count": 14,
   "id": "9db74316",
   "metadata": {},
   "outputs": [
    {
     "name": "stdout",
     "output_type": "stream",
     "text": [
      "9986\n"
     ]
    }
   ],
   "source": [
    "num2 = 6899\n",
    "print(reverse_number(num2))"
   ]
  },
  {
   "cell_type": "markdown",
   "id": "6e521fb1",
   "metadata": {},
   "source": [
    "**Question 6**\n",
    "\n",
    "Given an integer k and a **[queue](https://www.geeksforgeeks.org/queue-data-structure/)** of integers, The task is to reverse the order of the first **k** elements of the queue, leaving the other elements in the same relative order.\n",
    "\n",
    "Only following standard operations are allowed on queue.\n",
    "\n",
    "- **enqueue(x) :** Add an item x to rear of queue\n",
    "- **dequeue() :** Remove an item from front of queue\n",
    "- **size() :** Returns number of elements in queue.\n",
    "- **front() :** Finds front item."
   ]
  },
  {
   "cell_type": "code",
   "execution_count": 15,
   "id": "24df8740",
   "metadata": {},
   "outputs": [
    {
     "name": "stdout",
     "output_type": "stream",
     "text": [
      "3\n",
      "2\n",
      "1\n",
      "4\n",
      "5\n"
     ]
    }
   ],
   "source": [
    "from queue import Queue\n",
    "\n",
    "def reverse_k_elements(queue, k):\n",
    "    stack = []\n",
    "    temp_queue = Queue()\n",
    "\n",
    "    # Dequeue the first k elements and push onto stack\n",
    "    for _ in range(k):\n",
    "        stack.append(queue.get())\n",
    "\n",
    "    # Enqueue the remaining elements into temporary queue\n",
    "    while not queue.empty():\n",
    "        temp_queue.put(queue.get())\n",
    "\n",
    "    # Enqueue elements from stack back into original queue\n",
    "    while stack:\n",
    "        queue.put(stack.pop())\n",
    "\n",
    "    # Enqueue elements from temporary queue back into original queue\n",
    "    while not temp_queue.empty():\n",
    "        queue.put(temp_queue.get())\n",
    "\n",
    "    return queue\n",
    "\n",
    "queue = Queue()\n",
    "queue.put(1)\n",
    "queue.put(2)\n",
    "queue.put(3)\n",
    "queue.put(4)\n",
    "queue.put(5)\n",
    "\n",
    "k = 3\n",
    "reversed_queue = reverse_k_elements(queue, k)\n",
    "while not reversed_queue.empty():\n",
    "    print(reversed_queue.get())"
   ]
  },
  {
   "cell_type": "markdown",
   "id": "c0c78eb5",
   "metadata": {},
   "source": [
    "**Question 7**\n",
    "\n",
    "Given a sequence of n strings, the task is to check if any two similar words come together and then destroy each other then print the number of words left in the sequence after this pairwise destruction.\n",
    "\n",
    "Examples:\n",
    "\n",
    "Input : ab aa aa bcd ab\n",
    "\n",
    "Output : 3\n",
    "\n",
    "*As aa, aa destroys each other so,*\n",
    "\n",
    "*ab bcd ab is the new sequence.*\n",
    "\n",
    "Input :  tom jerry jerry tom\n",
    "\n",
    "Output : 0\n",
    "\n",
    "*As first both jerry will destroy each other.*\n",
    "\n",
    "*Then sequence will be tom, tom they will also destroy*\n",
    "\n",
    "*each other. So, the final sequence doesn’t contain any*\n",
    "\n",
    "*word.*"
   ]
  },
  {
   "cell_type": "code",
   "execution_count": 16,
   "id": "0dc7278f",
   "metadata": {},
   "outputs": [],
   "source": [
    "def count_remaining_words(sequence):\n",
    "    stack = []\n",
    "\n",
    "    for word in sequence:\n",
    "        if stack and stack[-1] == word:\n",
    "            stack.pop()\n",
    "        else:\n",
    "            stack.append(word)\n",
    "\n",
    "    return len(stack)"
   ]
  },
  {
   "cell_type": "code",
   "execution_count": 17,
   "id": "a93b7744",
   "metadata": {},
   "outputs": [
    {
     "name": "stdout",
     "output_type": "stream",
     "text": [
      "3\n"
     ]
    }
   ],
   "source": [
    "sequence1 = ['ab', 'aa', 'aa', 'bcd', 'ab']\n",
    "print(count_remaining_words(sequence1))"
   ]
  },
  {
   "cell_type": "code",
   "execution_count": 18,
   "id": "f141e814",
   "metadata": {},
   "outputs": [
    {
     "name": "stdout",
     "output_type": "stream",
     "text": [
      "0\n"
     ]
    }
   ],
   "source": [
    "sequence2 = ['tom', 'jerry', 'jerry', 'tom']\n",
    "print(count_remaining_words(sequence2))"
   ]
  },
  {
   "cell_type": "markdown",
   "id": "91faf108",
   "metadata": {},
   "source": [
    "**Question 8**\n",
    "\n",
    "Given an array of integers, the task is to find the maximum absolute difference between the nearest left and the right smaller element of every element in the array.\n",
    "\n",
    "**Note:** If there is no smaller element on right side or left side of any element then we take zero as the smaller element. For example for the leftmost element, the nearest smaller element on the left side is considered as 0. Similarly, for rightmost elements, the smaller element on the right side is considered as 0.\n",
    "\n",
    "Examples:\n",
    "\n",
    "    Input : arr[] = {2, 1, 8}\n",
    "    Output : 1\n",
    "    Left smaller  LS[] {0, 0, 1}\n",
    "    Right smaller RS[] {1, 0, 0}\n",
    "    Maximum Diff of abs(LS[i] - RS[i]) = 1\n",
    "\n",
    "    Input  : arr[] = {2, 4, 8, 7, 7, 9, 3}\n",
    "    Output : 4\n",
    "    Left smaller   LS[] = {0, 2, 4, 4, 4, 7, 2}\n",
    "    Right smaller  RS[] = {0, 3, 7, 3, 3, 3, 0}\n",
    "    Maximum Diff of abs(LS[i] - RS[i]) = 7 - 3 = 4\n",
    "\n",
    "    Input : arr[] = {5, 1, 9, 2, 5, 1, 7}\n",
    "    Output : 1"
   ]
  },
  {
   "cell_type": "code",
   "execution_count": 19,
   "id": "8b81dc25",
   "metadata": {},
   "outputs": [],
   "source": [
    "def max_absolute_difference(arr):\n",
    "    n = len(arr)\n",
    "    LS = [0] * n\n",
    "    RS = [0] * n\n",
    "    stack = []\n",
    "\n",
    "    for i in range(n):\n",
    "        while stack and arr[i] < arr[stack[-1]]:\n",
    "            LS[stack.pop()] = arr[i]\n",
    "        stack.append(i)\n",
    "\n",
    "    stack.clear()\n",
    "\n",
    "    for i in range(n-1, -1, -1):\n",
    "        while stack and arr[i] <= arr[stack[-1]]:\n",
    "            RS[stack.pop()] = arr[i]\n",
    "        stack.append(i)\n",
    "\n",
    "    max_diff = 0\n",
    "    for i in range(n):\n",
    "        diff = abs(LS[i] - RS[i])\n",
    "        if diff > max_diff:\n",
    "            max_diff = diff\n",
    "\n",
    "    return max_diff"
   ]
  },
  {
   "cell_type": "code",
   "execution_count": 20,
   "id": "3e00762b",
   "metadata": {},
   "outputs": [
    {
     "name": "stdout",
     "output_type": "stream",
     "text": [
      "1\n"
     ]
    }
   ],
   "source": [
    "arr1 = [2, 1, 8]\n",
    "print(max_absolute_difference(arr1))"
   ]
  },
  {
   "cell_type": "code",
   "execution_count": 21,
   "id": "66a79ad0",
   "metadata": {},
   "outputs": [
    {
     "name": "stdout",
     "output_type": "stream",
     "text": [
      "4\n"
     ]
    }
   ],
   "source": [
    "arr2 = [2, 4, 8, 7, 7, 9, 3]\n",
    "print(max_absolute_difference(arr2))"
   ]
  },
  {
   "cell_type": "code",
   "execution_count": 22,
   "id": "0d981f24",
   "metadata": {},
   "outputs": [
    {
     "name": "stdout",
     "output_type": "stream",
     "text": [
      "1\n"
     ]
    }
   ],
   "source": [
    "arr3 = [5, 1, 9, 2, 5, 1, 7]\n",
    "print(max_absolute_difference(arr3))"
   ]
  }
 ],
 "metadata": {
  "kernelspec": {
   "display_name": "Python 3 (ipykernel)",
   "language": "python",
   "name": "python3"
  },
  "language_info": {
   "codemirror_mode": {
    "name": "ipython",
    "version": 3
   },
   "file_extension": ".py",
   "mimetype": "text/x-python",
   "name": "python",
   "nbconvert_exporter": "python",
   "pygments_lexer": "ipython3",
   "version": "3.9.13"
  }
 },
 "nbformat": 4,
 "nbformat_minor": 5
}
