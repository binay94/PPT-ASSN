{
 "cells": [
  {
   "cell_type": "markdown",
   "metadata": {},
   "source": [
    "Question-1\n",
    "\n",
    "Given a binary tree, your task is to find subtree with maximum sum in tree.\n",
    "\n",
    "Examples:\n",
    "\n",
    "Input1 :       \n",
    "\n",
    "          1\n",
    "\n",
    "        /   \\\n",
    "\n",
    "      2       3\n",
    "     / \\     / \\\n",
    "\n",
    "    4   5   6    7\n",
    "\n",
    "Output1 : 28\n",
    "\n",
    "As all the tree elements are positive, the largest subtree sum is equal to sum of all tree elements.\n",
    "\n",
    "Input2 :\n",
    "\n",
    "              1\n",
    "\n",
    "            /    \\\n",
    "\n",
    "          -2      3\n",
    "\n",
    "          / \\    /  \\\n",
    "\n",
    "        4   5  -6     2\n",
    "\n",
    "Output2 : 7\n",
    "\n",
    "Subtree with largest sum is :\n",
    "\n",
    "      -2\n",
    "\n",
    "      / \\\n",
    "\n",
    "      4   5\n",
    "\n",
    "Also, entire tree sum is also 7."
   ]
  },
  {
   "cell_type": "code",
   "execution_count": 1,
   "metadata": {},
   "outputs": [
    {
     "name": "stdout",
     "output_type": "stream",
     "text": [
      "28\n"
     ]
    }
   ],
   "source": [
    "class Node:\n",
    "    def __init__(self, value):\n",
    "        self.value = value\n",
    "        self.left = None\n",
    "        self.right = None\n",
    "\n",
    "def findMaxSubtreeSum(node):\n",
    "    global max_sum\n",
    "    if node is None:\n",
    "        return 0\n",
    "\n",
    "    left_sum = findMaxSubtreeSum(node.left)\n",
    "    right_sum = findMaxSubtreeSum(node.right)\n",
    "\n",
    "    current_sum = node.value + left_sum + right_sum\n",
    "    max_sum = max(max_sum, current_sum, left_sum, right_sum)\n",
    "\n",
    "    return current_sum\n",
    "\n",
    "def findLargestSubtreeSum(root):\n",
    "    global max_sum\n",
    "    max_sum = float('-inf')\n",
    "    findMaxSubtreeSum(root)\n",
    "    return max_sum\n",
    "\n",
    "root = Node(1)\n",
    "root.left = Node(2)\n",
    "root.right = Node(3)\n",
    "root.left.left = Node(4)\n",
    "root.left.right = Node(5)\n",
    "root.right.left = Node(6)\n",
    "root.right.right = Node(7)\n",
    "\n",
    "print(findLargestSubtreeSum(root))  \n"
   ]
  },
  {
   "cell_type": "markdown",
   "metadata": {},
   "source": [
    " Question-2\n",
    "\n",
    "Construct the BST (Binary Search Tree) from its given level order traversal.\n",
    "\n",
    "Example:\n",
    "\n",
    "Input: arr[] = {7, 4, 12, 3, 6, 8, 1, 5, 10}\n",
    "\n",
    "Output: BST:\n",
    "\n",
    "                       7\n",
    "                    /    \\\n",
    "                  4       12\n",
    "                /  \\     /\n",
    "              3      6  8\n",
    "             /      /    \\\n",
    "            1      5      10"
   ]
  },
  {
   "cell_type": "code",
   "execution_count": 2,
   "metadata": {},
   "outputs": [
    {
     "name": "stdout",
     "output_type": "stream",
     "text": [
      "5 3 10 4 6 7 8 12 1 "
     ]
    }
   ],
   "source": [
    "class Node:\n",
    "    def __init__(self, value):\n",
    "        self.value = value\n",
    "        self.left = None\n",
    "        self.right = None\n",
    "\n",
    "def constructBST(level_order):\n",
    "    if len(level_order) == 0:\n",
    "        return None\n",
    "\n",
    "    root = Node(level_order[0])\n",
    "    queue = [root]\n",
    "    index = 1\n",
    "\n",
    "    while queue:\n",
    "        node = queue.pop(0)\n",
    "\n",
    "        if index < len(level_order):\n",
    "            left_value = level_order[index]\n",
    "            if left_value is not None:\n",
    "                left_node = Node(left_value)\n",
    "                node.left = left_node\n",
    "                queue.append(left_node)\n",
    "            index += 1\n",
    "\n",
    "        if index < len(level_order):\n",
    "            right_value = level_order[index]\n",
    "            if right_value is not None:\n",
    "                right_node = Node(right_value)\n",
    "                node.right = right_node\n",
    "                queue.append(right_node)\n",
    "            index += 1\n",
    "\n",
    "    return root\n",
    "\n",
    "def inorderTraversal(node):\n",
    "    if node is not None:\n",
    "        inorderTraversal(node.left)\n",
    "        print(node.value, end=\" \")\n",
    "        inorderTraversal(node.right)\n",
    "\n",
    "level_order = [7, 4, 12, 3, 6, 8, 1, 5, 10]\n",
    "root = constructBST(level_order)\n",
    "inorderTraversal(root)  \n"
   ]
  },
  {
   "cell_type": "markdown",
   "metadata": {},
   "source": [
    "Question-3\n",
    "\n",
    "Given an array of size n. The problem is to check whether the given array can represent the level order traversal of a Binary Search Tree or not.\n",
    "\n",
    "Examples:\n",
    "\n",
    "Input1 : arr[] = {7, 4, 12, 3, 6, 8, 1, 5, 10}\n",
    "\n",
    "Output1 : Yes\n",
    "\n",
    "For the given arr[], the Binary Search Tree is:\n",
    "\n",
    "                 7\n",
    "              /    \\\n",
    "            4       12\n",
    "          /  \\     /\n",
    "        3     6   8\n",
    "      /      /     \\\n",
    "    1       5      10\n",
    "\n",
    "Input2 : arr[] = {11, 6, 13, 5, 12, 10}\n",
    "\n",
    "Output2 : No\n",
    "\n",
    "The given arr[] does not represent the level order traversal of a BST.\n"
   ]
  },
  {
   "cell_type": "code",
   "execution_count": 3,
   "metadata": {},
   "outputs": [
    {
     "name": "stdout",
     "output_type": "stream",
     "text": [
      "No\n"
     ]
    }
   ],
   "source": [
    "def checkLevelOrderTraversal(arr):\n",
    "    if len(arr) <= 1:\n",
    "        return \"Yes\"\n",
    "\n",
    "    stack = []\n",
    "    root = arr[0]\n",
    "\n",
    "    for i in range(1, len(arr)):\n",
    "        if arr[i] < root:\n",
    "            return \"No\"\n",
    "\n",
    "        while stack and arr[i] > stack[-1]:\n",
    "            root = stack.pop()\n",
    "\n",
    "        stack.append(arr[i])\n",
    "\n",
    "    return \"Yes\"\n",
    "\n",
    "arr2 = [11, 6, 13, 5, 12, 10]\n",
    "print(checkLevelOrderTraversal(arr2))  \n"
   ]
  }
 ],
 "metadata": {
  "kernelspec": {
   "display_name": "base",
   "language": "python",
   "name": "python3"
  },
  "language_info": {
   "codemirror_mode": {
    "name": "ipython",
    "version": 3
   },
   "file_extension": ".py",
   "mimetype": "text/x-python",
   "name": "python",
   "nbconvert_exporter": "python",
   "pygments_lexer": "ipython3",
   "version": "3.9.13"
  },
  "orig_nbformat": 4
 },
 "nbformat": 4,
 "nbformat_minor": 2
}
