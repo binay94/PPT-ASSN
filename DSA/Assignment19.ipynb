{
 "cells": [
  {
   "cell_type": "markdown",
   "id": "d499192b",
   "metadata": {},
   "source": [
    "1. **Merge k Sorted Lists**\n",
    "\n",
    "You are given an array of `k` linked-lists `lists`, each linked-list is sorted in ascending order.\n",
    "\n",
    "*Merge all the linked-lists into one sorted linked-list and return it.*\n",
    "\n",
    "Example 1:\n",
    "\n",
    "    Input: lists = [[1,4,5],[1,3,4],[2,6]]\n",
    "    Output: [1,1,2,3,4,4,5,6]\n",
    "    Explanation: The linked-lists are:\n",
    "    [\n",
    "      1->4->5,\n",
    "      1->3->4,\n",
    "      2->6\n",
    "    ]\n",
    "    merging them into one sorted list:\n",
    "    1->1->2->3->4->4->5->6\n",
    "Example 2:\n",
    "\n",
    "    Input: lists = []\n",
    "    Output: []\n",
    "Example 3:\n",
    "\n",
    "    Input: lists = [[]]\n",
    "    Output: []\n",
    "Constraints:\n",
    "\n",
    "- `k == lists.length`\n",
    "- `0 <= k <= 10000`\n",
    "- `0 <= lists[i].length <= 500`\n",
    "- `-10000 <= lists[i][j] <= 10000`\n",
    "- `lists[i]` is sorted in **ascending order**.\n",
    "- The sum of `lists[i].length` will not exceed `10000`."
   ]
  },
  {
   "cell_type": "code",
   "execution_count": 1,
   "id": "5e0a3a49",
   "metadata": {},
   "outputs": [],
   "source": [
    "import heapq\n",
    "\n",
    "class ListNode:\n",
    "    def __init__(self, val=0, next=None):\n",
    "        self.val = val\n",
    "        self.next = next\n",
    "\n",
    "def mergeKLists(lists):\n",
    "    # Create a min-heap\n",
    "    min_heap = []\n",
    "    heapq.heapify(min_heap)\n",
    "\n",
    "    for l in lists:\n",
    "        if l:\n",
    "            heapq.heappush(min_heap, (l.val, id(l), l))\n",
    "\n",
    "    dummy = ListNode(0)\n",
    "    curr = dummy\n",
    "\n",
    "    while min_heap:\n",
    "        _, _, node = heapq.heappop(min_heap)\n",
    "        curr.next = node\n",
    "        curr = curr.next\n",
    "\n",
    "        if node.next:\n",
    "            heapq.heappush(min_heap, (node.next.val, id(node.next), node.next))\n",
    "\n",
    "    curr.next = None\n",
    "\n",
    "    return dummy.next"
   ]
  },
  {
   "cell_type": "code",
   "execution_count": 2,
   "id": "8bd7d743",
   "metadata": {},
   "outputs": [
    {
     "name": "stdout",
     "output_type": "stream",
     "text": [
      "1 1 2 3 4 4 5 6 "
     ]
    }
   ],
   "source": [
    "# Example 1\n",
    "list1 = ListNode(1)\n",
    "list1.next = ListNode(4)\n",
    "list1.next.next = ListNode(5)\n",
    "\n",
    "list2 = ListNode(1)\n",
    "list2.next = ListNode(3)\n",
    "list2.next.next = ListNode(4)\n",
    "\n",
    "list3 = ListNode(2)\n",
    "list3.next = ListNode(6)\n",
    "\n",
    "merged_list = mergeKLists([list1, list2, list3])\n",
    "while merged_list:\n",
    "    print(merged_list.val, end=\" \")\n",
    "    merged_list = merged_list.next"
   ]
  },
  {
   "cell_type": "code",
   "execution_count": 3,
   "id": "a25f29f3",
   "metadata": {},
   "outputs": [
    {
     "name": "stdout",
     "output_type": "stream",
     "text": [
      "None\n"
     ]
    }
   ],
   "source": [
    "# Example 2\n",
    "merged_list = mergeKLists([])\n",
    "print(merged_list)"
   ]
  },
  {
   "cell_type": "code",
   "execution_count": 4,
   "id": "69b03c73",
   "metadata": {},
   "outputs": [
    {
     "name": "stdout",
     "output_type": "stream",
     "text": [
      "None\n"
     ]
    }
   ],
   "source": [
    "# Example 3\n",
    "merged_list = mergeKLists([None])\n",
    "print(merged_list)"
   ]
  },
  {
   "cell_type": "markdown",
   "id": "1defb81a",
   "metadata": {},
   "source": [
    "2. **Count of Smaller Numbers After Self**\n",
    "\n",
    "Given an integer array `nums`, return *an integer array* `counts` *where* `counts[i]` *is the number of smaller elements to the right of* `nums[i]`.\n",
    "\n",
    "Example 1:\n",
    "\n",
    "    Input: nums = [5,2,6,1]\n",
    "    Output: [2,1,1,0]\n",
    "    Explanation:\n",
    "    To the right of 5 there are2 smaller elements (2 and 1).\n",
    "    To the right of 2 there is only1 smaller element (1).\n",
    "    To the right of 6 there is1 smaller element (1).\n",
    "    To the right of 1 there is0 smaller element.\n",
    "Example 2:\n",
    "\n",
    "    Input: nums = [-1]\n",
    "    Output: [0]\n",
    "Example 3:\n",
    "\n",
    "    Input: nums = [-1,-1]\n",
    "    Output: [0,0]\n",
    "    \n",
    "**Constraints:**\n",
    "\n",
    "- `1 <= nums.length <= 100000`\n",
    "- `-10000 <= nums[i] <= 10000`"
   ]
  },
  {
   "cell_type": "code",
   "execution_count": 5,
   "id": "1f1e874d",
   "metadata": {},
   "outputs": [],
   "source": [
    "def countSmaller(nums):\n",
    "    def mergeSort(arr):\n",
    "        if len(arr) <= 1:\n",
    "            return arr\n",
    "        \n",
    "        mid = len(arr) // 2\n",
    "        left = mergeSort(arr[:mid])\n",
    "        right = mergeSort(arr[mid:])\n",
    "        merged = []\n",
    "        i = j = 0\n",
    "        count = 0\n",
    "        \n",
    "        while i < len(left) and j < len(right):\n",
    "            if left[i][0] <= right[j][0]:\n",
    "                merged.append(left[i])\n",
    "                result[left[i][1]] += count\n",
    "                i += 1\n",
    "            else:\n",
    "                merged.append(right[j])\n",
    "                count += 1\n",
    "                j += 1\n",
    "        \n",
    "        while i < len(left):\n",
    "            merged.append(left[i])\n",
    "            result[left[i][1]] += count\n",
    "            i += 1\n",
    "        \n",
    "        while j < len(right):\n",
    "            merged.append(right[j])\n",
    "            j += 1\n",
    "        \n",
    "        return merged\n",
    "    \n",
    "    result = [0] * len(nums)\n",
    "    arr = [(nums[i], i) for i in range(len(nums))]\n",
    "    mergeSort(arr)\n",
    "    \n",
    "    return result"
   ]
  },
  {
   "cell_type": "code",
   "execution_count": 6,
   "id": "8d6db39c",
   "metadata": {},
   "outputs": [
    {
     "name": "stdout",
     "output_type": "stream",
     "text": [
      "[2, 1, 1, 0]\n"
     ]
    }
   ],
   "source": [
    "print(countSmaller([5, 2, 6, 1])) "
   ]
  },
  {
   "cell_type": "markdown",
   "id": "70ac7ec1",
   "metadata": {},
   "source": [
    "3. **Sort an Array**\n",
    "\n",
    "Given an array of integers `nums`, sort the array in ascending order and return it.\n",
    "\n",
    "You must solve the problem **without using any built-in** functions in `O(nlog(n))` time complexity and with the smallest space complexity possible.\n",
    "\n",
    "**Example 1:**\n",
    "\n",
    "```\n",
    "Input: nums = [5,2,3,1]\n",
    "Output: [1,2,3,5]\n",
    "Explanation: After sorting the array, the positions of some numbers are not changed (for example, 2 and 3), while the positions of other numbers are changed (for example, 1 and 5).\n",
    "\n",
    "```\n",
    "\n",
    "**Example 2:**\n",
    "\n",
    "```\n",
    "Input: nums = [5,1,1,2,0,0]\n",
    "Output: [0,0,1,1,2,5]\n",
    "Explanation: Note that the values of nums are not necessairly unique.\n",
    "\n",
    "```\n",
    "\n",
    "**Constraints:**\n",
    "\n",
    "- `1 <= nums.length <= 5 * 10000`\n",
    "- `-5 * 104 <= nums[i] <= 5 * 10000`"
   ]
  },
  {
   "cell_type": "code",
   "execution_count": 7,
   "id": "1311bbad",
   "metadata": {},
   "outputs": [],
   "source": [
    "def quicksort(nums, low, high):\n",
    "    if low < high:\n",
    "        pivot_index = partition(nums, low, high)\n",
    "        quicksort(nums, low, pivot_index - 1)\n",
    "        quicksort(nums, pivot_index + 1, high)\n",
    "\n",
    "def partition(nums, low, high):\n",
    "    pivot = nums[high]\n",
    "    i = low - 1\n",
    "\n",
    "    for j in range(low, high):\n",
    "        if nums[j] < pivot:\n",
    "            i += 1\n",
    "            nums[i], nums[j] = nums[j], nums[i]\n",
    "\n",
    "    nums[i + 1], nums[high] = nums[high], nums[i + 1]\n",
    "    return i + 1\n",
    "\n",
    "def sortArray(nums):\n",
    "    quicksort(nums, 0, len(nums) - 1)\n",
    "    return nums"
   ]
  },
  {
   "cell_type": "code",
   "execution_count": 8,
   "id": "04dd2656",
   "metadata": {},
   "outputs": [
    {
     "name": "stdout",
     "output_type": "stream",
     "text": [
      "[1, 2, 3, 5]\n"
     ]
    }
   ],
   "source": [
    "print(sortArray([5, 2, 3, 1]))     "
   ]
  },
  {
   "cell_type": "code",
   "execution_count": 9,
   "id": "42490b2f",
   "metadata": {},
   "outputs": [
    {
     "name": "stdout",
     "output_type": "stream",
     "text": [
      "[0, 0, 1, 1, 2, 5]\n"
     ]
    }
   ],
   "source": [
    "print(sortArray([5, 1, 1, 2, 0, 0]))  "
   ]
  },
  {
   "cell_type": "markdown",
   "id": "2a0b2abc",
   "metadata": {},
   "source": [
    "4. **Move all zeroes to end of array**\n",
    "\n",
    "Given an array of random numbers, Push all the zero’s of a given array to the end of the array. For example, if the given arrays is {1, 9, 8, 4, 0, 0, 2, 7, 0, 6, 0}, it should be changed to {1, 9, 8, 4, 2, 7, 6, 0, 0, 0, 0}. The order of all other elements should be same. Expected time complexity is O(n) and extra space is O(1).\n",
    "\n",
    "**Example:**\n",
    "    Input :  arr[] = {1, 2, 0, 4, 3, 0, 5, 0};\n",
    "    Output : arr[] = {1, 2, 4, 3, 5, 0, 0, 0};\n",
    "\n",
    "    Input : arr[]  = {1, 2, 0, 0, 0, 3, 6};\n",
    "    Output : arr[] = {1, 2, 3, 6, 0, 0, 0}; "
   ]
  },
  {
   "cell_type": "code",
   "execution_count": 10,
   "id": "051510f6",
   "metadata": {},
   "outputs": [],
   "source": [
    "def moveZeroes(nums):\n",
    "    left = 0\n",
    "    right = 0\n",
    "\n",
    "    while right < len(nums):\n",
    "        if nums[right] != 0:\n",
    "            nums[left], nums[right] = nums[right], nums[left]\n",
    "            left += 1\n",
    "        right += 1\n",
    "\n",
    "    while left < len(nums):\n",
    "        nums[left] = 0\n",
    "        left += 1\n",
    "\n",
    "    return nums"
   ]
  },
  {
   "cell_type": "code",
   "execution_count": 11,
   "id": "740d2b85",
   "metadata": {},
   "outputs": [
    {
     "name": "stdout",
     "output_type": "stream",
     "text": [
      "[1, 2, 4, 3, 5, 0, 0, 0]\n"
     ]
    }
   ],
   "source": [
    "print(moveZeroes([1, 2, 0, 4, 3, 0, 5, 0]))\n"
   ]
  },
  {
   "cell_type": "code",
   "execution_count": 12,
   "id": "40105751",
   "metadata": {},
   "outputs": [
    {
     "name": "stdout",
     "output_type": "stream",
     "text": [
      "[1, 2, 3, 6, 0, 0, 0]\n"
     ]
    }
   ],
   "source": [
    "print(moveZeroes([1, 2, 0, 0, 0, 3, 6]))"
   ]
  },
  {
   "cell_type": "markdown",
   "id": "e593e5e6",
   "metadata": {},
   "source": [
    "5. **Rearrange array in alternating positive & negative items with O(1) extra space**\n",
    "\n",
    "Given an **array of positive** and **negative numbers**, arrange them in an **alternate** fashion such that every positive number is followed by a negative and vice-versa maintaining the **order of appearance**. The number of positive and negative numbers need not be equal. If there are more positive numbers they appear at the end of the array. If there are more negative numbers, they too appear at the end of the array.\n",
    "\n",
    "**Examples:**\n",
    "\n",
    "> Input:  arr[] = {1, 2, 3, -4, -1, 4}\n",
    "Output: arr[] = {-4, 1, -1, 2, 3, 4}\n",
    "\n",
    "Input:  arr[] = {-5, -2, 5, 2, 4, 7, 1, 8, 0, -8}\n",
    "Output: arr[] = {-5, 5, -2, 2, -8, 4, 7, 1, 8, 0}\n",
    "> "
   ]
  },
  {
   "cell_type": "code",
   "execution_count": 13,
   "id": "082918f5",
   "metadata": {},
   "outputs": [],
   "source": [
    "def rearrangeArray(nums):\n",
    "    positive = 0\n",
    "    negative = 0\n",
    "\n",
    "    while positive < len(nums):\n",
    "        if nums[positive] > 0:\n",
    "            positive += 1\n",
    "            continue\n",
    "\n",
    "        while negative < len(nums) and nums[negative] < 0:\n",
    "            negative += 1\n",
    "\n",
    "        if negative >= len(nums):\n",
    "            break\n",
    "\n",
    "        nums[positive], nums[negative] = nums[negative], nums[positive]\n",
    "        positive += 1\n",
    "\n",
    "    return nums"
   ]
  },
  {
   "cell_type": "code",
   "execution_count": 14,
   "id": "54ffd9f3",
   "metadata": {},
   "outputs": [
    {
     "name": "stdout",
     "output_type": "stream",
     "text": [
      "[-4, -1, 3, 1, 2, 4]\n"
     ]
    }
   ],
   "source": [
    "print(rearrangeArray([1, 2, 3, -4, -1, 4])) "
   ]
  },
  {
   "cell_type": "code",
   "execution_count": 15,
   "id": "491bf5c6",
   "metadata": {},
   "outputs": [
    {
     "name": "stdout",
     "output_type": "stream",
     "text": [
      "[5, 2, 4, 7, 1, 8, 0, -2, -5, -8]\n"
     ]
    }
   ],
   "source": [
    "print(rearrangeArray([-5, -2, 5, 2, 4, 7, 1, 8, 0, -8]))  "
   ]
  },
  {
   "cell_type": "markdown",
   "id": "58cc0b62",
   "metadata": {},
   "source": [
    "**6. Merge two sorted arrays**\n",
    "\n",
    "Given two sorted arrays, the task is to merge them in a sorted manner.\n",
    "\n",
    "**Examples:**\n",
    "\n",
    "> Input: arr1[] = { 1, 3, 4, 5}, arr2[] = {2, 4, 6, 8} \n",
    "Output: arr3[] = {1, 2, 3, 4, 4, 5, 6, 8}\n",
    "\n",
    "Input: arr1[] = { 5, 8, 9}, arr2[] = {4, 7, 8}\n",
    "Output: arr3[] = {4, 5, 7, 8, 8, 9}\n",
    "> "
   ]
  },
  {
   "cell_type": "code",
   "execution_count": 16,
   "id": "c25bbff1",
   "metadata": {},
   "outputs": [],
   "source": [
    "def mergeArrays(arr1, arr2):\n",
    "    n1 = len(arr1)\n",
    "    n2 = len(arr2)\n",
    "    arr3 = [None] * (n1 + n2)\n",
    "    i = j = k = 0\n",
    "\n",
    "    while i < n1 and j < n2:\n",
    "        if arr1[i] <= arr2[j]:\n",
    "            arr3[k] = arr1[i]\n",
    "            i += 1\n",
    "        else:\n",
    "            arr3[k] = arr2[j]\n",
    "            j += 1\n",
    "        k += 1\n",
    "\n",
    "    while i < n1:\n",
    "        arr3[k] = arr1[i]\n",
    "        i += 1\n",
    "        k += 1\n",
    "\n",
    "    while j < n2:\n",
    "        arr3[k] = arr2[j]\n",
    "        j += 1\n",
    "        k += 1\n",
    "\n",
    "    return arr3"
   ]
  },
  {
   "cell_type": "code",
   "execution_count": 17,
   "id": "cec8cd9c",
   "metadata": {},
   "outputs": [
    {
     "name": "stdout",
     "output_type": "stream",
     "text": [
      "[1, 2, 3, 4, 4, 5, 6, 8]\n"
     ]
    }
   ],
   "source": [
    "print(mergeArrays([1, 3, 4, 5], [2, 4, 6, 8]))"
   ]
  },
  {
   "cell_type": "code",
   "execution_count": 18,
   "id": "ed440e77",
   "metadata": {},
   "outputs": [
    {
     "name": "stdout",
     "output_type": "stream",
     "text": [
      "[4, 5, 7, 8, 8, 9]\n"
     ]
    }
   ],
   "source": [
    "print(mergeArrays([5, 8, 9], [4, 7, 8])) "
   ]
  },
  {
   "cell_type": "markdown",
   "id": "d25a2256",
   "metadata": {},
   "source": [
    " 7. **Intersection of Two Arrays**\n",
    "\n",
    "Given two integer arrays `nums1` and `nums2`, return *an array of their intersection*. Each element in the result must be **unique** and you may return the result in **any order**.\n",
    "\n",
    "**Example 1:**\n",
    "\n",
    "```\n",
    "Input: nums1 = [1,2,2,1], nums2 = [2,2]\n",
    "Output: [2]\n",
    "\n",
    "```\n",
    "\n",
    "**Example 2:**\n",
    "\n",
    "```\n",
    "Input: nums1 = [4,9,5], nums2 = [9,4,9,8,4]\n",
    "Output: [9,4]\n",
    "Explanation: [4,9] is also accepted.\n",
    "\n",
    "```\n",
    "\n",
    "**Constraints:**\n",
    "\n",
    "- `1 <= nums1.length, nums2.length <= 1000`\n",
    "- `0 <= nums1[i], nums2[i] <= 1000`"
   ]
  },
  {
   "cell_type": "code",
   "execution_count": 19,
   "id": "295335d8",
   "metadata": {},
   "outputs": [],
   "source": [
    "def intersection(nums1, nums2):\n",
    "    set1 = set(nums1)\n",
    "    set2 = set(nums2)\n",
    "    intersection = set()\n",
    "\n",
    "    for num in set1:\n",
    "        if num in set2:\n",
    "            intersection.add(num)\n",
    "\n",
    "    return list(intersection)"
   ]
  },
  {
   "cell_type": "code",
   "execution_count": 20,
   "id": "8a12d047",
   "metadata": {},
   "outputs": [
    {
     "name": "stdout",
     "output_type": "stream",
     "text": [
      "[2]\n"
     ]
    }
   ],
   "source": [
    "print(intersection([1, 2, 2, 1], [2, 2]))"
   ]
  },
  {
   "cell_type": "code",
   "execution_count": 21,
   "id": "7fcbf371",
   "metadata": {},
   "outputs": [
    {
     "name": "stdout",
     "output_type": "stream",
     "text": [
      "[9, 4]\n"
     ]
    }
   ],
   "source": [
    "print(intersection([4, 9, 5], [9, 4, 9, 8, 4]))  "
   ]
  },
  {
   "cell_type": "markdown",
   "id": "a94033b5",
   "metadata": {},
   "source": [
    "8. **Intersection of Two Arrays II**\n",
    "\n",
    "Given two integer arrays `nums1` and `nums2`, return *an array of their intersection*. Each element in the result must appear as many times as it shows in both arrays and you may return the result in **any order**.\n",
    "\n",
    "**Example 1:**\n",
    "\n",
    "```\n",
    "Input: nums1 = [1,2,2,1], nums2 = [2,2]\n",
    "Output: [2,2]\n",
    "\n",
    "```\n",
    "\n",
    "**Example 2:**\n",
    "\n",
    "```\n",
    "Input: nums1 = [4,9,5], nums2 = [9,4,9,8,4]\n",
    "Output: [4,9]\n",
    "Explanation: [9,4] is also accepted.\n",
    "\n",
    "```\n",
    "\n",
    "**Constraints:**\n",
    "\n",
    "- `1 <= nums1.length, nums2.length <= 1000`\n",
    "- `0 <= nums1[i], nums2[i] <= 1000`"
   ]
  },
  {
   "cell_type": "code",
   "execution_count": 22,
   "id": "5f777c5b",
   "metadata": {},
   "outputs": [],
   "source": [
    "def intersect(nums1, nums2):\n",
    "    map1 = {}\n",
    "    map2 = {}\n",
    "\n",
    "    for num in nums1:\n",
    "        map1[num] = map1.get(num, 0) + 1\n",
    "\n",
    "    result = []\n",
    "\n",
    "    for num in nums2:\n",
    "        if num in map1 and map1[num] > 0:\n",
    "            result.append(num)\n",
    "            map1[num] -= 1\n",
    "\n",
    "    return result"
   ]
  },
  {
   "cell_type": "code",
   "execution_count": 23,
   "id": "3399b242",
   "metadata": {},
   "outputs": [
    {
     "name": "stdout",
     "output_type": "stream",
     "text": [
      "[2, 2]\n"
     ]
    }
   ],
   "source": [
    "print(intersect([1, 2, 2, 1], [2, 2]))  "
   ]
  },
  {
   "cell_type": "code",
   "execution_count": 24,
   "id": "f2ca583d",
   "metadata": {},
   "outputs": [
    {
     "name": "stdout",
     "output_type": "stream",
     "text": [
      "[9, 4]\n"
     ]
    }
   ],
   "source": [
    "print(intersect([4, 9, 5], [9, 4, 9, 8, 4]))"
   ]
  }
 ],
 "metadata": {
  "kernelspec": {
   "display_name": "Python 3 (ipykernel)",
   "language": "python",
   "name": "python3"
  },
  "language_info": {
   "codemirror_mode": {
    "name": "ipython",
    "version": 3
   },
   "file_extension": ".py",
   "mimetype": "text/x-python",
   "name": "python",
   "nbconvert_exporter": "python",
   "pygments_lexer": "ipython3",
   "version": "3.9.13"
  }
 },
 "nbformat": 4,
 "nbformat_minor": 5
}
