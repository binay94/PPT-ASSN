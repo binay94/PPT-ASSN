{
 "cells": [
  {
   "cell_type": "markdown",
   "metadata": {},
   "source": [
    "**Question 1**\n",
    "\n",
    "Given an integer `n`, return *`true` if it is a power of three. Otherwise, return `false`*.\n",
    "\n",
    "An integer `n` is a power of three, if there exists an integer `x` such that `n == 3x`.\n",
    "\n",
    "**Example 1:**\n",
    "\n",
    "```\n",
    "Input: n = 27\n",
    "Output: true\n",
    "Explanation: 27 = 33\n",
    "```\n",
    "\n",
    "**Example 2:**\n",
    "\n",
    "```\n",
    "Input: n = 0\n",
    "Output: false\n",
    "Explanation: There is no x where 3x = 0.\n",
    "\n",
    "```\n",
    "\n",
    "**Example 3:**\n",
    "\n",
    "\n",
    "Input: n = -1\n",
    "Output: false\n",
    "Explanation: There is no x where 3x = (-1)."
   ]
  },
  {
   "cell_type": "code",
   "execution_count": 1,
   "metadata": {},
   "outputs": [
    {
     "name": "stdout",
     "output_type": "stream",
     "text": [
      "True\n",
      "False\n",
      "False\n"
     ]
    }
   ],
   "source": [
    "def isPowerOfThree(n):\n",
    "    if n <= 0:\n",
    "        return False\n",
    "\n",
    "    while n % 3 == 0:\n",
    "        n //= 3\n",
    "\n",
    "    return n == 1\n",
    "\n",
    "\n",
    "print(isPowerOfThree(27))  \n",
    "print(isPowerOfThree(0))  \n",
    "print(isPowerOfThree(-1))  \n"
   ]
  },
  {
   "cell_type": "markdown",
   "metadata": {},
   "source": [
    " **Question 2**\n",
    "\n",
    "You have a list `arr` of all integers in the range `[1, n]` sorted in a strictly increasing order. Apply the following algorithm on `arr`:\n",
    "\n",
    "- Starting from left to right, remove the first number and every other number afterward until you reach the end of the list.\n",
    "- Repeat the previous step again, but this time from right to left, remove the rightmost number and every other number from the remaining numbers.\n",
    "- Keep repeating the steps again, alternating left to right and right to left, until a single number remains.\n",
    "\n",
    "Given the integer `n`, return *the last number that remains in* `arr`.\n",
    "\n",
    "**Example 1:**\n",
    "\n",
    "```\n",
    "Input: n = 9\n",
    "Output: 6\n",
    "Explanation:\n",
    "arr = [1, 2,3, 4,5, 6,7, 8,9]\n",
    "arr = [2,4, 6,8]\n",
    "arr = [2, 6]\n",
    "arr = [6]\n",
    "\n",
    "```\n",
    "\n",
    "**Example 2:**\n",
    "\n",
    "```\n",
    "Input: n = 1\n",
    "Output: 1\n",
    "```"
   ]
  },
  {
   "cell_type": "code",
   "execution_count": 3,
   "metadata": {},
   "outputs": [
    {
     "name": "stdout",
     "output_type": "stream",
     "text": [
      "6\n",
      "1\n"
     ]
    }
   ],
   "source": [
    "def lastRemaining(n):\n",
    "    return remainingHelper(n, True)\n",
    "\n",
    "def remainingHelper(n, isLeft):\n",
    "    if n == 1:\n",
    "        return 1\n",
    "\n",
    "    if isLeft:\n",
    "        return 2 * remainingHelper(n // 2, False)\n",
    "    else:\n",
    "        if n % 2 == 0:\n",
    "            return 2 * remainingHelper(n // 2, True) - 1\n",
    "        else:\n",
    "            return 2 * remainingHelper(n // 2, True)\n",
    "\n",
    "print(lastRemaining(9))  \n",
    "print(lastRemaining(1))  \n"
   ]
  },
  {
   "cell_type": "markdown",
   "metadata": {},
   "source": [
    " **Question 3**\n",
    "\n",
    "****Given a set represented as a string, write a recursive code to print all subsets of it. The subsets can be printed in any order.\n",
    "\n",
    "**Example 1:**\n",
    "\n",
    "Input :  set = “abc”\n",
    "\n",
    "Output : { “”, “a”, “b”, “c”, “ab”, “ac”, “bc”, “abc”}\n",
    "\n",
    "**Example 2:**\n",
    "\n",
    "Input : set = “abcd”\n",
    "\n",
    "Output : { “”, “a” ,”ab” ,”abc” ,”abcd”, “abd” ,”ac” ,”acd”, “ad” ,”b”, “bc” ,”bcd” ,”bd” ,”c” ,”cd” ,”d” }"
   ]
  },
  {
   "cell_type": "code",
   "execution_count": 4,
   "metadata": {},
   "outputs": [
    {
     "name": "stdout",
     "output_type": "stream",
     "text": [
      "abc\n",
      "ab\n",
      "ac\n",
      "a\n",
      "bc\n",
      "b\n",
      "c\n",
      "\n",
      "abcd\n",
      "abc\n",
      "abd\n",
      "ab\n",
      "acd\n",
      "ac\n",
      "ad\n",
      "a\n",
      "bcd\n",
      "bc\n",
      "bd\n",
      "b\n",
      "cd\n",
      "c\n",
      "d\n",
      "\n"
     ]
    }
   ],
   "source": [
    "def printSubsets(string):\n",
    "    subsetsHelper(string, \"\", 0)\n",
    "\n",
    "def subsetsHelper(string, currentSubset, index):\n",
    "    if index == len(string):\n",
    "        print(currentSubset)\n",
    "        return\n",
    "\n",
    "    # Include the current character\n",
    "    subsetsHelper(string, currentSubset + string[index], index + 1)\n",
    "\n",
    "    # Exclude the current character\n",
    "    subsetsHelper(string, currentSubset, index + 1)\n",
    "\n",
    "\n",
    "printSubsets(\"abc\")\n",
    "printSubsets(\"abcd\")"
   ]
  },
  {
   "cell_type": "markdown",
   "metadata": {},
   "source": [
    "**Question 4**\n",
    "\n",
    "Given a string calculate length of the string using recursion.\n",
    "\n",
    "**Examples:**\n",
    "Input : str = \"abcd\"\n",
    "Output :4\n",
    "\n",
    "Input : str = \"GEEKSFORGEEKS\"\n",
    "Output :13"
   ]
  },
  {
   "cell_type": "code",
   "execution_count": 5,
   "metadata": {},
   "outputs": [
    {
     "name": "stdout",
     "output_type": "stream",
     "text": [
      "4\n",
      "13\n"
     ]
    }
   ],
   "source": [
    "def stringLength(string):\n",
    "    if string == \"\":\n",
    "        return 0\n",
    "    else:\n",
    "        return 1 + stringLength(string[1:])\n",
    "\n",
    "\n",
    "print(stringLength(\"abcd\")) \n",
    "print(stringLength(\"GEEKSFORGEEKS\"))  \n"
   ]
  },
  {
   "cell_type": "markdown",
   "metadata": {},
   "source": [
    "**Question 5**\n",
    "\n",
    "We are given a string S, we need to find count of all contiguous substrings starting and ending with same character.\n",
    "\n",
    "**Examples :**\n",
    "\n",
    "```\n",
    "Input  : S = \"abcab\"\n",
    "Output : 7\n",
    "There are 15 substrings of \"abcab\"\n",
    "a, ab, abc, abca, abcab, b, bc, bca\n",
    "bcab, c, ca, cab, a, ab, b\n",
    "Out of the above substrings, there\n",
    "are 7 substrings : a, abca, b, bcab,\n",
    "c, a and b.\n",
    "\n",
    "Input  : S = \"aba\"\n",
    "Output : 4\n",
    "The substrings are a, b, a and aba\n",
    "```"
   ]
  },
  {
   "cell_type": "code",
   "execution_count": 6,
   "metadata": {},
   "outputs": [
    {
     "name": "stdout",
     "output_type": "stream",
     "text": [
      "7\n",
      "4\n"
     ]
    }
   ],
   "source": [
    "def countSubstrings(S):\n",
    "    count = 0\n",
    "    for i in range(len(S)):\n",
    "        for j in range(i, len(S)):\n",
    "            if S[i] == S[j]:\n",
    "                count += 1\n",
    "    return count\n",
    "\n",
    "\n",
    "print(countSubstrings(\"abcab\")) \n",
    "print(countSubstrings(\"aba\"))  \n"
   ]
  },
  {
   "cell_type": "markdown",
   "metadata": {},
   "source": [
    "**Question 6**\n",
    "\n",
    "The [tower of Hanoi](https://en.wikipedia.org/wiki/Tower_of_Hanoi) is a famous puzzle where we have three rods and **N** disks. The objective of the puzzle is to move the entire stack to another rod. You are given the number of discs **N**. Initially, these discs are in the rod 1. You need to print all the steps of discs movement so that all the discs reach the 3rd rod. Also, you need to find the total moves.**Note:** The discs are arranged such that the **top disc is numbered 1** and the **bottom-most disc is numbered N**. Also, all the discs have **different sizes** and a bigger disc **cannot** be put on the top of a smaller disc. Refer the provided link to get a better clarity about the puzzle.\n",
    "\n",
    "**Example 1:**\n",
    "\n",
    "```\n",
    "Input:\n",
    "N = 2\n",
    "Output:\n",
    "move disk 1 from rod 1 to rod 2\n",
    "move disk 2 from rod 1 to rod 3\n",
    "move disk 1 from rod 2 to rod 3\n",
    "3\n",
    "Explanation:For N=2 , steps will be\n",
    "as follows in the example and total\n",
    "3 steps will be taken.\n",
    "```\n",
    "\n",
    "**Example 2:**\n",
    "\n",
    "```\n",
    "Input:\n",
    "N = 3\n",
    "Output:\n",
    "move disk 1 from rod 1 to rod 3\n",
    "move disk 2 from rod 1 to rod 2\n",
    "move disk 1 from rod 3 to rod 2\n",
    "move disk 3 from rod 1 to rod 3\n",
    "move disk 1 from rod 2 to rod 1\n",
    "move disk 2 from rod 2 to rod 3\n",
    "move disk 1 from rod 1 to rod 3\n",
    "7\n",
    "Explanation:For N=3 , steps will be\n",
    "as follows in the example and total\n",
    "7 steps will be taken."
   ]
  },
  {
   "cell_type": "code",
   "execution_count": 7,
   "metadata": {},
   "outputs": [
    {
     "name": "stdout",
     "output_type": "stream",
     "text": [
      "move disk 1 from rod 1 to rod 2\n",
      "move disk 2 from rod 1 to rod 3\n",
      "move disk 1 from rod 2 to rod 3\n",
      "3\n",
      "move disk 1 from rod 1 to rod 3\n",
      "move disk 2 from rod 1 to rod 2\n",
      "move disk 1 from rod 3 to rod 2\n",
      "move disk 3 from rod 1 to rod 3\n",
      "move disk 1 from rod 2 to rod 1\n",
      "move disk 2 from rod 2 to rod 3\n",
      "move disk 1 from rod 1 to rod 3\n",
      "7\n"
     ]
    }
   ],
   "source": [
    "def towerOfHanoi(N, source, destination, auxiliary):\n",
    "    if N == 1:\n",
    "        print(\"move disk 1 from rod\", source, \"to rod\", destination)\n",
    "        return 1\n",
    "\n",
    "    moves = 0\n",
    "    moves += towerOfHanoi(N-1, source, auxiliary, destination)\n",
    "    print(\"move disk\", N, \"from rod\", source, \"to rod\", destination)\n",
    "    moves += 1\n",
    "    moves += towerOfHanoi(N-1, auxiliary, destination, source)\n",
    "\n",
    "    return moves\n",
    "\n",
    "N1 = 2\n",
    "total_moves1 = towerOfHanoi(N1, 1, 3, 2)\n",
    "print(total_moves1)  \n",
    "\n",
    "N2 = 3\n",
    "total_moves2 = towerOfHanoi(N2, 1, 3, 2)\n",
    "print(total_moves2) \n"
   ]
  },
  {
   "cell_type": "markdown",
   "metadata": {},
   "source": [
    "**Question 7**\n",
    "\n",
    "Given a string **str**, the task is to print all the permutations of **str**. A **permutation** is an arrangement of all or part of a set of objects, with regard to the order of the arrangement. For instance, the words ‘bat’ and ‘tab’ represents two distinct permutation (or arrangements) of a similar three letter word.\n",
    "\n",
    "**Examples:**\n",
    "\n",
    "    **Input:** str = “cd”\n",
    "    **Output:** cd dc\n",
    "\n",
    "    **Input:** str = “abb”\n",
    "    **Output:** abb abb bab bba bab bba\n"
   ]
  },
  {
   "cell_type": "code",
   "execution_count": 10,
   "metadata": {},
   "outputs": [
    {
     "name": "stdout",
     "output_type": "stream",
     "text": [
      "cd\n",
      "dc\n",
      "abb\n",
      "abb\n",
      "bab\n",
      "bba\n",
      "bba\n",
      "bab\n"
     ]
    }
   ],
   "source": [
    "# Function Definition to print all permutations of a given string.\n",
    "def printPermutations(str):\n",
    "    permutationsHelper(list(str), 0, len(str) - 1)\n",
    "\n",
    "# Function Definition for swapping & reordering\n",
    "def permutationsHelper(strList, left, right):\n",
    "    if left == right:\n",
    "        print(''.join(strList))\n",
    "    else:\n",
    "        for i in range(left, right + 1):\n",
    "            strList[left], strList[i] = strList[i], strList[left]  \n",
    "            permutationsHelper(strList, left + 1, right)\n",
    "            strList[left], strList[i] = strList[i], strList[left]  \n",
    "\n",
    "# Driver Code:\n",
    "printPermutations(\"cd\")\n",
    "printPermutations(\"abb\")"
   ]
  },
  {
   "cell_type": "markdown",
   "metadata": {},
   "source": [
    "**Question 8**\n",
    "\n",
    "Given a string, count total number of consonants in it. A consonant is an English alphabet character that is not vowel (a, e, i, o and u). Examples of constants are b, c, d, f, and g.\n",
    "\n",
    "**Examples :**\n",
    "Input : abc de\n",
    "Output : 3\n",
    "There are three consonants b, c and d.\n",
    "\n",
    "Input : geeksforgeeks portal\n",
    "Output : 12"
   ]
  },
  {
   "cell_type": "code",
   "execution_count": 9,
   "metadata": {},
   "outputs": [
    {
     "name": "stdout",
     "output_type": "stream",
     "text": [
      "3\n",
      "12\n"
     ]
    }
   ],
   "source": [
    "# Function Defintion to count number of consonants in an string.\n",
    "def countConsonants(string):\n",
    "    consonants = 0\n",
    "    vowels = 'aeiou'\n",
    "    for char in string:\n",
    "        if char.isalpha() and char.lower() not in vowels:\n",
    "            consonants += 1\n",
    "    return consonants\n",
    "\n",
    "#Driver Code\n",
    "print(countConsonants(\"abc de\"))  \n",
    "print(countConsonants(\"geeksforgeeks portal\"))  \n"
   ]
  },
  {
   "cell_type": "code",
   "execution_count": null,
   "metadata": {},
   "outputs": [],
   "source": []
  }
 ],
 "metadata": {
  "kernelspec": {
   "display_name": "base",
   "language": "python",
   "name": "python3"
  },
  "language_info": {
   "codemirror_mode": {
    "name": "ipython",
    "version": 3
   },
   "file_extension": ".py",
   "mimetype": "text/x-python",
   "name": "python",
   "nbconvert_exporter": "python",
   "pygments_lexer": "ipython3",
   "version": "3.10.9"
  },
  "orig_nbformat": 4
 },
 "nbformat": 4,
 "nbformat_minor": 2
}
