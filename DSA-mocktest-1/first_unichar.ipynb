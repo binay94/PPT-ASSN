{
 "cells": [
  {
   "cell_type": "code",
   "execution_count": 8,
   "id": "56253418",
   "metadata": {},
   "outputs": [
    {
     "name": "stdout",
     "output_type": "stream",
     "text": [
      "No. of First Unique character in leetcode :0\n",
      "No. of First Unique character in loveleetcode :2\n",
      "No. of First Unique character in aabb :-1\n"
     ]
    }
   ],
   "source": [
    "def firstUniqChar(s):\n",
    "    # Create a hashmap to store the frequency of characters\n",
    "    freq = {}\n",
    "    \n",
    "    # Count the frequency of each character in the string\n",
    "    for char in s:\n",
    "        freq[char] = freq.get(char, 0) + 1\n",
    "\n",
    "    # Iterate through the string and find the first non-repeating character\n",
    "    for i in range(len(s)):\n",
    "        if freq[s[i]] == 1:\n",
    "            return i\n",
    "\n",
    "    return -1\n",
    "\n",
    "# Test cases\n",
    "s1 = \"leetcode\"\n",
    "print(f\"No. of First Unique character in {s1} :{firstUniqChar(s1)}\") \n",
    "\n",
    "s2 = \"loveleetcode\"\n",
    "print(f\"No. of First Unique character in {s2} :{firstUniqChar(s2)}\")  \n",
    "\n",
    "s3 = \"aabb\"\n",
    "print(f\"No. of First Unique character in {s3} :{firstUniqChar(s3)}\")  "
   ]
  }
 ],
 "metadata": {
  "kernelspec": {
   "display_name": "Python 3 (ipykernel)",
   "language": "python",
   "name": "python3"
  },
  "language_info": {
   "codemirror_mode": {
    "name": "ipython",
    "version": 3
   },
   "file_extension": ".py",
   "mimetype": "text/x-python",
   "name": "python",
   "nbconvert_exporter": "python",
   "pygments_lexer": "ipython3",
   "version": "3.9.13"
  }
 },
 "nbformat": 4,
 "nbformat_minor": 5
}
