{
 "cells": [
  {
   "cell_type": "markdown",
   "id": "8c456e84",
   "metadata": {},
   "source": [
    "Q2) Implement a queue using a list in Python. Include the necessary methods such as enqueue, dequeue, and isEmpty."
   ]
  },
  {
   "cell_type": "code",
   "execution_count": 3,
   "id": "0ff54b57",
   "metadata": {},
   "outputs": [],
   "source": [
    "class Queue:\n",
    "    def __init__(self):\n",
    "        self.queue = []\n",
    "\n",
    "    def enqueue(self, item):\n",
    "        self.queue.append(item)\n",
    "\n",
    "    def dequeue(self):\n",
    "        if self.isEmpty():\n",
    "            raise IndexError(\"Cannot dequeue from an empty queue.\")\n",
    "        return self.queue.pop(0)\n",
    "\n",
    "    def isEmpty(self):\n",
    "        return len(self.queue) == 0"
   ]
  },
  {
   "cell_type": "code",
   "execution_count": 5,
   "id": "1792ce3b",
   "metadata": {},
   "outputs": [
    {
     "name": "stdout",
     "output_type": "stream",
     "text": [
      "100\n",
      "False\n",
      "200\n",
      "300\n",
      "True\n"
     ]
    }
   ],
   "source": [
    "queue = Queue()\n",
    "queue.enqueue(100)\n",
    "queue.enqueue(200)\n",
    "queue.enqueue(300)\n",
    "print(queue.dequeue())\n",
    "print(queue.isEmpty())\n",
    "print(queue.dequeue())\n",
    "print(queue.dequeue())\n",
    "print(queue.isEmpty())"
   ]
  }
 ],
 "metadata": {
  "kernelspec": {
   "display_name": "Python 3 (ipykernel)",
   "language": "python",
   "name": "python3"
  },
  "language_info": {
   "codemirror_mode": {
    "name": "ipython",
    "version": 3
   },
   "file_extension": ".py",
   "mimetype": "text/x-python",
   "name": "python",
   "nbconvert_exporter": "python",
   "pygments_lexer": "ipython3",
   "version": "3.9.13"
  }
 },
 "nbformat": 4,
 "nbformat_minor": 5
}
